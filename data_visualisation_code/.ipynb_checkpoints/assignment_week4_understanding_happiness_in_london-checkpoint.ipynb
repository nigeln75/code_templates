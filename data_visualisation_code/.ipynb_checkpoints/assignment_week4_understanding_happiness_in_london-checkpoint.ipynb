{
 "cells": [
  {
   "cell_type": "code",
   "execution_count": null,
   "metadata": {
    "collapsed": true
   },
   "outputs": [],
   "source": []
  },
  {
   "cell_type": "code",
   "execution_count": null,
   "metadata": {
    "collapsed": true
   },
   "outputs": [],
   "source": [
    "'''\n",
    "Grading criteria:\n",
    "- identify the region and domain category that their data sets are about\n",
    "- state a research question that related to the domain category and region they identified\n",
    "- provide links to at least two working links to publicly available data sets (including links to CSV or Excel files)\n",
    "- upload an image that addresses the stated question\n",
    "- write a short (1-2 paragraph) justification of how the visualization addresses the question\n",
    "- describe your design choices for your visual in regards to Cairo's principle of truthfulness\n",
    "- describe your design choices for your visual in regards to Cairo's principle of beauty.\n",
    "- describe your design choices for your visual in regards to Cairo's principle of functionality\n",
    "- describe your design choices for your visual in regards to Cairo's principle of insightfulness\n",
    "'''"
   ]
  },
  {
   "cell_type": "code",
   "execution_count": null,
   "metadata": {
    "collapsed": true
   },
   "outputs": [],
   "source": [
    "'''\n",
    "Analysis plan:\n",
    "1. Read in religion data for London from ONS website\n",
    "2. Look at distributions of % population by religion within London OAs (??)\n",
    "3. Consider calculating the modal religous groups and do a frequency plot of modal group\n",
    "\n",
    "4. Read in life satisfaction data for London from ONS website\n",
    "5. Look at distributions of different variables and derived variables using Seaborn\n",
    "6. Look at correlations between satisfaction, worthwhile, happiness and anxiety\n",
    "7. Plot all on a map of London (requires geo-lookup)\n",
    "\n",
    "8. Build predictive model to explain happiness using income, age and religion\n",
    "9. Plot feature importance\n",
    "\n",
    "10. Collate key subplots into one plot, e.g. religion map, then map for most important satisfaction measures then feature importance plot\n",
    "'''"
   ]
  },
  {
   "cell_type": "code",
   "execution_count": 26,
   "metadata": {
    "collapsed": true
   },
   "outputs": [],
   "source": [
    "import pandas as pd\n",
    "import numpy as np"
   ]
  },
  {
   "cell_type": "markdown",
   "metadata": {},
   "source": [
    "## Read in religion data"
   ]
  },
  {
   "cell_type": "code",
   "execution_count": 43,
   "metadata": {
    "collapsed": false
   },
   "outputs": [
    {
     "data": {
      "text/plain": [
       "float64    9\n",
       "object     4\n",
       "dtype: int64"
      ]
     },
     "execution_count": 43,
     "metadata": {},
     "output_type": "execute_result"
    }
   ],
   "source": [
    "\n",
    "# Population estimates by religion by area code\n",
    "# https://www.ons.gov.uk/file?uri=/peoplepopulationandcommunity/populationandmigration/populationestimates/datasets/2011censuskeystatisticsandquickstatisticsforwardsandoutputareasinenglandandwales/rft-qs210ew-ldn.zip\n",
    "\n",
    "# Read the file into a DataFrame: religion_df\n",
    "religion_df = pd.read_csv('religion_census_data.csv')\n",
    "\n",
    "religion_df.dtypes.value_counts()"
   ]
  },
  {
   "cell_type": "code",
   "execution_count": 41,
   "metadata": {
    "collapsed": false
   },
   "outputs": [
    {
     "data": {
      "text/html": [
       "<div>\n",
       "<table border=\"1\" class=\"dataframe\">\n",
       "  <thead>\n",
       "    <tr style=\"text-align: right;\">\n",
       "      <th></th>\n",
       "      <th>Region code</th>\n",
       "      <th>Region name</th>\n",
       "      <th>Local authority code</th>\n",
       "      <th>Local authority name</th>\n",
       "      <th>Christian</th>\n",
       "      <th>No religion: Total</th>\n",
       "      <th>Muslim (Islam)</th>\n",
       "      <th>Religion not stated</th>\n",
       "      <th>Hindu</th>\n",
       "      <th>Jewish</th>\n",
       "      <th>...</th>\n",
       "      <th>tot_pop_surveyed</th>\n",
       "      <th>perc_christian</th>\n",
       "      <th>perc_no_religion</th>\n",
       "      <th>perc_muslim</th>\n",
       "      <th>perc_religion_not_stated</th>\n",
       "      <th>perc_hindu</th>\n",
       "      <th>perc_jewish</th>\n",
       "      <th>perc_sikh</th>\n",
       "      <th>perc_buddhist</th>\n",
       "      <th>perc_other_religion</th>\n",
       "    </tr>\n",
       "  </thead>\n",
       "  <tbody>\n",
       "    <tr>\n",
       "      <th>0</th>\n",
       "      <td>E12000007</td>\n",
       "      <td>LONDON</td>\n",
       "      <td>E09000007</td>\n",
       "      <td>Camden</td>\n",
       "      <td>74821.0</td>\n",
       "      <td>56113.0</td>\n",
       "      <td>26643.0</td>\n",
       "      <td>45276.0</td>\n",
       "      <td>3141.0</td>\n",
       "      <td>9823.0</td>\n",
       "      <td>...</td>\n",
       "      <td>440676.339574</td>\n",
       "      <td>0.169787</td>\n",
       "      <td>0.127334</td>\n",
       "      <td>0.060459</td>\n",
       "      <td>0.102742</td>\n",
       "      <td>0.007128</td>\n",
       "      <td>0.022291</td>\n",
       "      <td>0.001055</td>\n",
       "      <td>0.006329</td>\n",
       "      <td>0.002875</td>\n",
       "    </tr>\n",
       "    <tr>\n",
       "      <th>1</th>\n",
       "      <td>E12000007</td>\n",
       "      <td>LONDON</td>\n",
       "      <td>E09000001</td>\n",
       "      <td>City of London</td>\n",
       "      <td>3344.0</td>\n",
       "      <td>2522.0</td>\n",
       "      <td>409.0</td>\n",
       "      <td>651.0</td>\n",
       "      <td>145.0</td>\n",
       "      <td>166.0</td>\n",
       "      <td>...</td>\n",
       "      <td>14750.453424</td>\n",
       "      <td>0.226705</td>\n",
       "      <td>0.170978</td>\n",
       "      <td>0.027728</td>\n",
       "      <td>0.044134</td>\n",
       "      <td>0.009830</td>\n",
       "      <td>0.011254</td>\n",
       "      <td>0.001220</td>\n",
       "      <td>0.006237</td>\n",
       "      <td>0.001898</td>\n",
       "    </tr>\n",
       "    <tr>\n",
       "      <th>2</th>\n",
       "      <td>E12000007</td>\n",
       "      <td>LONDON</td>\n",
       "      <td>E09000012</td>\n",
       "      <td>Hackney</td>\n",
       "      <td>95131.0</td>\n",
       "      <td>69454.0</td>\n",
       "      <td>34727.0</td>\n",
       "      <td>23646.0</td>\n",
       "      <td>1577.0</td>\n",
       "      <td>15477.0</td>\n",
       "      <td>...</td>\n",
       "      <td>492540.386287</td>\n",
       "      <td>0.193144</td>\n",
       "      <td>0.141012</td>\n",
       "      <td>0.070506</td>\n",
       "      <td>0.048008</td>\n",
       "      <td>0.003202</td>\n",
       "      <td>0.031423</td>\n",
       "      <td>0.003801</td>\n",
       "      <td>0.006243</td>\n",
       "      <td>0.002662</td>\n",
       "    </tr>\n",
       "    <tr>\n",
       "      <th>3</th>\n",
       "      <td>E12000007</td>\n",
       "      <td>LONDON</td>\n",
       "      <td>E09000013</td>\n",
       "      <td>Hammersmith and Fulham</td>\n",
       "      <td>98808.0</td>\n",
       "      <td>43487.0</td>\n",
       "      <td>18242.0</td>\n",
       "      <td>15339.0</td>\n",
       "      <td>2097.0</td>\n",
       "      <td>1161.0</td>\n",
       "      <td>...</td>\n",
       "      <td>364986.541434</td>\n",
       "      <td>0.270717</td>\n",
       "      <td>0.119147</td>\n",
       "      <td>0.049980</td>\n",
       "      <td>0.042026</td>\n",
       "      <td>0.005745</td>\n",
       "      <td>0.003181</td>\n",
       "      <td>0.001211</td>\n",
       "      <td>0.005644</td>\n",
       "      <td>0.002348</td>\n",
       "    </tr>\n",
       "    <tr>\n",
       "      <th>4</th>\n",
       "      <td>E12000007</td>\n",
       "      <td>LONDON</td>\n",
       "      <td>E09000014</td>\n",
       "      <td>Haringey</td>\n",
       "      <td>114659.0</td>\n",
       "      <td>64202.0</td>\n",
       "      <td>36130.0</td>\n",
       "      <td>22813.0</td>\n",
       "      <td>4539.0</td>\n",
       "      <td>7643.0</td>\n",
       "      <td>...</td>\n",
       "      <td>509852.449774</td>\n",
       "      <td>0.224887</td>\n",
       "      <td>0.125923</td>\n",
       "      <td>0.070864</td>\n",
       "      <td>0.044744</td>\n",
       "      <td>0.008903</td>\n",
       "      <td>0.014991</td>\n",
       "      <td>0.001585</td>\n",
       "      <td>0.005549</td>\n",
       "      <td>0.002556</td>\n",
       "    </tr>\n",
       "  </tbody>\n",
       "</table>\n",
       "<p>5 rows × 23 columns</p>\n",
       "</div>"
      ],
      "text/plain": [
       "  Region code Region name Local authority code    Local authority name  \\\n",
       "0   E12000007      LONDON            E09000007                  Camden   \n",
       "1   E12000007      LONDON            E09000001          City of London   \n",
       "2   E12000007      LONDON            E09000012                 Hackney   \n",
       "3   E12000007      LONDON            E09000013  Hammersmith and Fulham   \n",
       "4   E12000007      LONDON            E09000014                Haringey   \n",
       "\n",
       "   Christian  No religion: Total  Muslim (Islam)  Religion not stated   Hindu  \\\n",
       "0    74821.0             56113.0         26643.0              45276.0  3141.0   \n",
       "1     3344.0              2522.0           409.0                651.0   145.0   \n",
       "2    95131.0             69454.0         34727.0              23646.0  1577.0   \n",
       "3    98808.0             43487.0         18242.0              15339.0  2097.0   \n",
       "4   114659.0             64202.0         36130.0              22813.0  4539.0   \n",
       "\n",
       "    Jewish         ...           tot_pop_surveyed  perc_christian  \\\n",
       "0   9823.0         ...              440676.339574        0.169787   \n",
       "1    166.0         ...               14750.453424        0.226705   \n",
       "2  15477.0         ...              492540.386287        0.193144   \n",
       "3   1161.0         ...              364986.541434        0.270717   \n",
       "4   7643.0         ...              509852.449774        0.224887   \n",
       "\n",
       "   perc_no_religion  perc_muslim  perc_religion_not_stated  perc_hindu  \\\n",
       "0          0.127334     0.060459                  0.102742    0.007128   \n",
       "1          0.170978     0.027728                  0.044134    0.009830   \n",
       "2          0.141012     0.070506                  0.048008    0.003202   \n",
       "3          0.119147     0.049980                  0.042026    0.005745   \n",
       "4          0.125923     0.070864                  0.044744    0.008903   \n",
       "\n",
       "   perc_jewish  perc_sikh  perc_buddhist  perc_other_religion  \n",
       "0     0.022291   0.001055       0.006329             0.002875  \n",
       "1     0.011254   0.001220       0.006237             0.001898  \n",
       "2     0.031423   0.003801       0.006243             0.002662  \n",
       "3     0.003181   0.001211       0.005644             0.002348  \n",
       "4     0.014991   0.001585       0.005549             0.002556  \n",
       "\n",
       "[5 rows x 23 columns]"
      ]
     },
     "execution_count": 41,
     "metadata": {},
     "output_type": "execute_result"
    }
   ],
   "source": [
    "religion_df['tot_pop_surveyed'] = religion_df.sum(axis=1)\n",
    "religion_df['perc_christian'] = religion_df['Christian'] / religion_df['tot_pop_surveyed']\n",
    "religion_df['perc_no_religion'] = religion_df['No religion: Total'] / religion_df['tot_pop_surveyed']\n",
    "religion_df['perc_muslim'] = religion_df['Muslim (Islam)'] / religion_df['tot_pop_surveyed']\n",
    "religion_df['perc_religion_not_stated'] = religion_df['Religion not stated'] / religion_df['tot_pop_surveyed']\n",
    "religion_df['perc_hindu'] = religion_df['Hindu'] / religion_df['tot_pop_surveyed']\n",
    "religion_df['perc_jewish'] = religion_df['Jewish'] / religion_df['tot_pop_surveyed']\n",
    "religion_df['perc_sikh'] = religion_df['Sikh'] / religion_df['tot_pop_surveyed']\n",
    "religion_df['perc_buddhist'] = religion_df['Buddhist'] / religion_df['tot_pop_surveyed']\n",
    "religion_df['perc_other_religion'] = religion_df['Other religion: Total'] / religion_df['tot_pop_surveyed']\n",
    "\n",
    "religion_df.head()"
   ]
  },
  {
   "cell_type": "code",
   "execution_count": 46,
   "metadata": {
    "collapsed": false
   },
   "outputs": [],
   "source": [
    "import numpy as np\n",
    "import matplotlib.pyplot as plt\n",
    "from matplotlib.collections import PatchCollection\n",
    "from mpl_toolkits.basemap import Basemap\n",
    "from shapely.geometry import Point, MultiPoint, MultiPolygon\n",
    "from descartes import PolygonPatch"
   ]
  },
  {
   "cell_type": "code",
   "execution_count": 60,
   "metadata": {
    "collapsed": false
   },
   "outputs": [
    {
     "ename": "NameError",
     "evalue": "name 'fiona' is not defined",
     "output_type": "error",
     "traceback": [
      "\u001b[0;31m---------------------------------------------------------------------------\u001b[0m",
      "\u001b[0;31mNameError\u001b[0m                                 Traceback (most recent call last)",
      "\u001b[0;32m<ipython-input-60-5d3d3dc6061a>\u001b[0m in \u001b[0;36m<module>\u001b[0;34m()\u001b[0m\n\u001b[1;32m      2\u001b[0m \u001b[0;31m# Get maps from EDINA http://digimap.edina.ac.uk/digimap/home\u001b[0m\u001b[0;34m\u001b[0m\u001b[0;34m\u001b[0m\u001b[0m\n\u001b[1;32m      3\u001b[0m mp = MultiPolygon(\n\u001b[0;32m----> 4\u001b[0;31m     [shape(pol['geometry']) for pol in fiona.open('data/boroughs/boroughs.shp')\n\u001b[0m\u001b[1;32m      5\u001b[0m     if pol['properties']['AREA_CODE'] == 'LBO'])\n\u001b[1;32m      6\u001b[0m \u001b[0;34m\u001b[0m\u001b[0m\n",
      "\u001b[0;31mNameError\u001b[0m: name 'fiona' is not defined"
     ]
    }
   ],
   "source": [
    "# We can extract the London Borough boundaries by filtering on the AREA_CODE key\n",
    "# Get maps from EDINA http://digimap.edina.ac.uk/digimap/home\n",
    "mp = MultiPolygon(\n",
    "    [shape(pol['geometry']) for pol in fiona.open('data/boroughs/boroughs.shp')\n",
    "    if pol['properties']['AREA_CODE'] == 'LBO'])\n",
    "\n",
    "# We can now do GIS-ish operations on each borough polygon!\n",
    "# we could randomize this by dumping the polygons into a list and shuffling it\n",
    "# or we could define a random colour using fc=np.random.rand(3,)\n",
    "# available colour maps are here: http://wiki.scipy.org/Cookbook/Matplotlib/Show_colormaps\n",
    "cm = plt.get_cmap('RdBu')\n",
    "num_colours = len(mp)\n",
    " \n",
    "fig = plt.figure()\n",
    "ax = fig.add_subplot(111)\n",
    "minx, miny, maxx, maxy = mp.bounds\n",
    "w, h = maxx - minx, maxy - miny\n",
    "ax.set_xlim(minx - 0.2 * w, maxx + 0.2 * w)\n",
    "ax.set_ylim(miny - 0.2 * h, maxy + 0.2 * h)\n",
    "ax.set_aspect(1)\n",
    "\n",
    "patches = []\n",
    "for idx, p in enumerate(mp):\n",
    "    colour = cm(1. * idx / num_colours)\n",
    "    patches.append(PolygonPatch(p, fc=colour, ec='#555555', lw=0.2, alpha=1., zorder=1))\n",
    "ax.add_collection(PatchCollection(patches, match_original=True))\n",
    "ax.set_xticks([])\n",
    "ax.set_yticks([])\n",
    "plt.title(\"Shapefile polygons rendered using Shapely\")\n",
    "plt.tight_layout()\n",
    "plt.savefig('data/london_from_shp.png', alpha=True, dpi=300)\n",
    "plt.show()"
   ]
  },
  {
   "cell_type": "code",
   "execution_count": 10,
   "metadata": {
    "collapsed": false
   },
   "outputs": [
    {
     "data": {
      "text/plain": [
       "Other religion: Animism                           92.0\n",
       "Other religion: Baha'i                          1229.0\n",
       "Other religion: Believe in God                   966.0\n",
       "Other religion: Brahma Kumari                    194.0\n",
       "Other religion: Chinese Religion                  68.0\n",
       "Other religion: Church of All Religion           103.0\n",
       "Other religion: Confucianist                      33.0\n",
       "Other religion: Deist                            244.0\n",
       "Other religion: Druid                            361.0\n",
       "Other religion: Druze                            397.0\n",
       "Other religion: Eckankar                         156.0\n",
       "Other religion: Heathen                          202.0\n",
       "Other religion: Mixed Religion                  3139.0\n",
       "Other religion: Mysticism                         53.0\n",
       "Other religion: Native American Church             8.0\n",
       "Other religion: New Age                          126.0\n",
       "Other religion: Occult                            77.0\n",
       "Other religion: Own Belief System                331.0\n",
       "Other religion: Pagan                           4943.0\n",
       "Other religion: Pantheism                        348.0\n",
       "Other religion: Rastafarian                     2629.0\n",
       "Other religion: Ravidassia                      1575.0\n",
       "Other religion: Reconstructionist                 54.0\n",
       "Other religion: Satanism                         232.0\n",
       "Other religion: Scientology                      321.0\n",
       "Other religion: Shamanism                         88.0\n",
       "Other religion: Shintoism                        408.0\n",
       "Other religion: Spiritual                       2813.0\n",
       "Other religion: Spiritualist                    3242.0\n",
       "Other religion: Taoist                           783.0\n",
       "Other religion: Theism                           187.0\n",
       "Other religion: Thelemite                         36.0\n",
       "Other religion: Traditional African Religion     252.0\n",
       "Other religion: Unification Church               243.0\n",
       "Other religion: Universalist                     161.0\n",
       "Other religion: Vodun                             52.0\n",
       "Other religion: Wicca                           1023.0\n",
       "Other religion: Witchcraft                       120.0\n",
       "Other religion: Zoroastrian                     2235.0\n",
       "Other religion: Other religions                 3426.0\n",
       "No religion: Agnostic                           5678.0\n",
       "No religion: Atheist                            5439.0\n",
       "No religion: Free Thinker                         77.0\n",
       "No religion: Heavy Metal                         732.0\n",
       "No religion: Humanist                           2235.0\n",
       "No religion: Realist                              35.0\n",
       "dtype: float64"
      ]
     },
     "execution_count": 10,
     "metadata": {},
     "output_type": "execute_result"
    }
   ],
   "source": [
    "religion_df.sum()"
   ]
  },
  {
   "cell_type": "code",
   "execution_count": null,
   "metadata": {
    "collapsed": true
   },
   "outputs": [],
   "source": [
    "Due to an issue with the processing of census data, the number of usual residents in the 'Religion not stated' category has been overestimated by a total of 62,000 for three local authorities: Camden, Islington and Tower Hamlets. Correcting the figures will result in approximately 14 per cent (Camden), 9 per cent (Islington), 10 per cent (Tower Hamlets) more usual residents in every stated religion category. The total numbers of usual residents in each local authority are not affected, just the distribution of usual residents across religion categories within these three local authorities, with a subsequent small knock-on effect to England and Wales as a whole.\n",
    "\n",
    "The issue occurred during the estimation of people who didn't respond to the census. It only affected religion in these three areas, and does not affect any other area or variable.\n",
    "\n",
    "Due to the complexity of process and relationships with other output variables, it is not possible to correct the underlying data. A correction factor file is available - this provides a summary and correction factors for age/sex groups for each of the local authorities concerned. It is not practical to produce correction factors below this geographic level or for other variables."
   ]
  },
  {
   "cell_type": "code",
   "execution_count": null,
   "metadata": {
    "collapsed": true
   },
   "outputs": [],
   "source": [
    "NEED AN AREA CODE LOOKUP"
   ]
  },
  {
   "cell_type": "code",
   "execution_count": null,
   "metadata": {
    "collapsed": true
   },
   "outputs": [],
   "source": [
    "\n",
    "# - ONS life satisfaction, worthwhile, happy, anxiety by area code for London - all on scales 0 - 10: https://www.ons.gov.uk/file?uri=/peoplepopulationandcommunity/wellbeing/datasets/headlineestimatesofpersonalwellbeing/localauthorityupdate2015to2016/headlineestimatesofpersonalwellbeinglocalauthorityupdate2015to2016.xls"
   ]
  }
 ],
 "metadata": {
  "kernelspec": {
   "display_name": "Python 3",
   "language": "python",
   "name": "python3"
  },
  "language_info": {
   "codemirror_mode": {
    "name": "ipython",
    "version": 3
   },
   "file_extension": ".py",
   "mimetype": "text/x-python",
   "name": "python",
   "nbconvert_exporter": "python",
   "pygments_lexer": "ipython3",
   "version": "3.6.0"
  }
 },
 "nbformat": 4,
 "nbformat_minor": 2
}
