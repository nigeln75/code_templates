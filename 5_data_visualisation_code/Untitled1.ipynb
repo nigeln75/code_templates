{
 "cells": [
  {
   "cell_type": "code",
   "execution_count": null,
   "metadata": {
    "collapsed": true
   },
   "outputs": [],
   "source": [
    "# Calculate percentages of population by religion for 2001 census:\n",
    "\n",
    "religion_2001['perc_christian_2001'] = religion_2001['pop_christian_2001'] / religion_2001['tot_pop_surveyed_2001']\n",
    "religion_2001['perc_no_religion_2001'] = religion_2001['pop_no_religion_2001'] / religion_2001['tot_pop_surveyed_2001']\n",
    "religion_2001['perc_muslim_2001'] = religion_2001['pop_muslim_2001'] / religion_2001['tot_pop_surveyed_2001']\n",
    "religion_2001['perc_religion_not_stated_2001'] = religion_2001['pop_religion_not_stated_2001'] / religion_2001['tot_pop_surveyed_2001']\n",
    "religion_2001['perc_hindu_2001'] = religion_2001['pop_hindu_2001'] / religion_2001['tot_pop_surveyed_2001']\n",
    "religion_2001['perc_jewish_2001'] = religion_2001['pop_jewish_2001'] / religion_2001['tot_pop_surveyed_2001']\n",
    "religion_2001['perc_sikh_2001'] = religion_2001['pop_sikh_2001'] / religion_2001['tot_pop_surveyed_2001']\n",
    "religion_2001['perc_buddhist_2001'] = religion_2001['pop_buddhist_2001'] / religion_2001['tot_pop_surveyed_2001']\n",
    "religion_2001['perc_other_religion_2001'] = religion_2001['pop_other_religion_2001'] / religion_2001['tot_pop_surveyed_2001']\n",
    "\n",
    "religion_2001.head()"
   ]
  }
 ],
 "metadata": {
  "kernelspec": {
   "display_name": "Python 3",
   "language": "python",
   "name": "python3"
  },
  "language_info": {
   "codemirror_mode": {
    "name": "ipython",
    "version": 3
   },
   "file_extension": ".py",
   "mimetype": "text/x-python",
   "name": "python",
   "nbconvert_exporter": "python",
   "pygments_lexer": "ipython3",
   "version": "3.6.0"
  }
 },
 "nbformat": 4,
 "nbformat_minor": 2
}
