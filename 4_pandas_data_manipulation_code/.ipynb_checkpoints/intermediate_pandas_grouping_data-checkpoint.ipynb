{
 "cells": [
  {
   "cell_type": "code",
   "execution_count": 3,
   "metadata": {
    "collapsed": false
   },
   "outputs": [
    {
     "data": {
      "text/html": [
       "<div>\n",
       "<table border=\"1\" class=\"dataframe\">\n",
       "  <thead>\n",
       "    <tr style=\"text-align: right;\">\n",
       "      <th></th>\n",
       "      <th>bread</th>\n",
       "      <th>butter</th>\n",
       "      <th>city</th>\n",
       "      <th>weekday</th>\n",
       "    </tr>\n",
       "  </thead>\n",
       "  <tbody>\n",
       "    <tr>\n",
       "      <th>0</th>\n",
       "      <td>139</td>\n",
       "      <td>20</td>\n",
       "      <td>Austin</td>\n",
       "      <td>Sun</td>\n",
       "    </tr>\n",
       "    <tr>\n",
       "      <th>1</th>\n",
       "      <td>237</td>\n",
       "      <td>45</td>\n",
       "      <td>Dallas</td>\n",
       "      <td>Sun</td>\n",
       "    </tr>\n",
       "    <tr>\n",
       "      <th>2</th>\n",
       "      <td>326</td>\n",
       "      <td>70</td>\n",
       "      <td>Austin</td>\n",
       "      <td>Mon</td>\n",
       "    </tr>\n",
       "    <tr>\n",
       "      <th>3</th>\n",
       "      <td>456</td>\n",
       "      <td>98</td>\n",
       "      <td>Dallas</td>\n",
       "      <td>Mon</td>\n",
       "    </tr>\n",
       "  </tbody>\n",
       "</table>\n",
       "</div>"
      ],
      "text/plain": [
       "   bread  butter    city weekday\n",
       "0    139      20  Austin     Sun\n",
       "1    237      45  Dallas     Sun\n",
       "2    326      70  Austin     Mon\n",
       "3    456      98  Dallas     Mon"
      ]
     },
     "execution_count": 3,
     "metadata": {},
     "output_type": "execute_result"
    }
   ],
   "source": [
    "import pandas as pd\n",
    "sales = pd.DataFrame(\n",
    "    {\n",
    "        'weekday': ['Sun', 'Sun', 'Mon', 'Mon'],\n",
    "        'city': ['Austin', 'Dallas', 'Austin', 'Dallas'],\n",
    "        'bread': [139, 237, 326, 456],\n",
    "        'butter': [20, 45, 70, 98]\n",
    "    }\n",
    "    )\n",
    "sales"
   ]
  },
  {
   "cell_type": "code",
   "execution_count": 4,
   "metadata": {
    "collapsed": false
   },
   "outputs": [
    {
     "data": {
      "text/plain": [
       "bread      2\n",
       "butter     2\n",
       "city       2\n",
       "weekday    2\n",
       "dtype: int64"
      ]
     },
     "execution_count": 4,
     "metadata": {},
     "output_type": "execute_result"
    }
   ],
   "source": [
    "# One option - boolean filter and count\n",
    "sales.loc[sales['weekday'] == 'Sun'].count()"
   ]
  },
  {
   "cell_type": "code",
   "execution_count": 5,
   "metadata": {
    "collapsed": false
   },
   "outputs": [
    {
     "data": {
      "text/html": [
       "<div>\n",
       "<table border=\"1\" class=\"dataframe\">\n",
       "  <thead>\n",
       "    <tr style=\"text-align: right;\">\n",
       "      <th></th>\n",
       "      <th>bread</th>\n",
       "      <th>butter</th>\n",
       "      <th>city</th>\n",
       "    </tr>\n",
       "    <tr>\n",
       "      <th>weekday</th>\n",
       "      <th></th>\n",
       "      <th></th>\n",
       "      <th></th>\n",
       "    </tr>\n",
       "  </thead>\n",
       "  <tbody>\n",
       "    <tr>\n",
       "      <th>Mon</th>\n",
       "      <td>2</td>\n",
       "      <td>2</td>\n",
       "      <td>2</td>\n",
       "    </tr>\n",
       "    <tr>\n",
       "      <th>Sun</th>\n",
       "      <td>2</td>\n",
       "      <td>2</td>\n",
       "      <td>2</td>\n",
       "    </tr>\n",
       "  </tbody>\n",
       "</table>\n",
       "</div>"
      ],
      "text/plain": [
       "         bread  butter  city\n",
       "weekday                     \n",
       "Mon          2       2     2\n",
       "Sun          2       2     2"
      ]
     },
     "execution_count": 5,
     "metadata": {},
     "output_type": "execute_result"
    }
   ],
   "source": [
    "# Groupby and count option\n",
    "sales.groupby('weekday').count()"
   ]
  },
  {
   "cell_type": "code",
   "execution_count": null,
   "metadata": {
    "collapsed": true
   },
   "outputs": [],
   "source": [
    "# Split-apply-combine: sales.groupby('weekday').count() does 3 things:\n",
    "# 1. split by ‘weekday’\n",
    "# 2. apply count() function on each group \n",
    "# 3. combine counts per group"
   ]
  },
  {
   "cell_type": "markdown",
   "metadata": {},
   "source": [
    "# Aggregation / reduction functions"
   ]
  },
  {
   "cell_type": "code",
   "execution_count": null,
   "metadata": {
    "collapsed": true
   },
   "outputs": [],
   "source": [
    "# mean()\n",
    "# std()\n",
    "# sum() \n",
    "# first()\n",
    "# last()\n",
    "# min()\n",
    "# max()"
   ]
  },
  {
   "cell_type": "code",
   "execution_count": 6,
   "metadata": {
    "collapsed": false
   },
   "outputs": [
    {
     "data": {
      "text/plain": [
       "weekday\n",
       "Mon    782\n",
       "Sun    376\n",
       "Name: bread, dtype: int64"
      ]
     },
     "execution_count": 6,
     "metadata": {},
     "output_type": "execute_result"
    }
   ],
   "source": [
    "# Groupby and sum\n",
    "# Here we use brackets to select one or more columns\n",
    "sales.groupby('weekday')['bread'].sum()"
   ]
  },
  {
   "cell_type": "markdown",
   "metadata": {},
   "source": [
    "# Groupby and sum on multiple columns"
   ]
  },
  {
   "cell_type": "code",
   "execution_count": 7,
   "metadata": {
    "collapsed": false
   },
   "outputs": [
    {
     "data": {
      "text/html": [
       "<div>\n",
       "<table border=\"1\" class=\"dataframe\">\n",
       "  <thead>\n",
       "    <tr style=\"text-align: right;\">\n",
       "      <th></th>\n",
       "      <th>bread</th>\n",
       "      <th>butter</th>\n",
       "    </tr>\n",
       "    <tr>\n",
       "      <th>weekday</th>\n",
       "      <th></th>\n",
       "      <th></th>\n",
       "    </tr>\n",
       "  </thead>\n",
       "  <tbody>\n",
       "    <tr>\n",
       "      <th>Mon</th>\n",
       "      <td>782</td>\n",
       "      <td>168</td>\n",
       "    </tr>\n",
       "    <tr>\n",
       "      <th>Sun</th>\n",
       "      <td>376</td>\n",
       "      <td>65</td>\n",
       "    </tr>\n",
       "  </tbody>\n",
       "</table>\n",
       "</div>"
      ],
      "text/plain": [
       "         bread  butter\n",
       "weekday               \n",
       "Mon        782     168\n",
       "Sun        376      65"
      ]
     },
     "execution_count": 7,
     "metadata": {},
     "output_type": "execute_result"
    }
   ],
   "source": [
    "# Here we supply a list of columns in brackets (hence double brackets) after the groupby call\n",
    "sales.groupby('weekday')[['bread','butter']].sum()"
   ]
  },
  {
   "cell_type": "code",
   "execution_count": 15,
   "metadata": {
    "collapsed": false
   },
   "outputs": [
    {
     "data": {
      "text/html": [
       "<div>\n",
       "<table border=\"1\" class=\"dataframe\">\n",
       "  <thead>\n",
       "    <tr style=\"text-align: right;\">\n",
       "      <th></th>\n",
       "      <th>bread</th>\n",
       "      <th>butter</th>\n",
       "    </tr>\n",
       "    <tr>\n",
       "      <th>city</th>\n",
       "      <th></th>\n",
       "      <th></th>\n",
       "    </tr>\n",
       "  </thead>\n",
       "  <tbody>\n",
       "    <tr>\n",
       "      <th>Austin</th>\n",
       "      <td>326</td>\n",
       "      <td>70</td>\n",
       "    </tr>\n",
       "    <tr>\n",
       "      <th>Dallas</th>\n",
       "      <td>456</td>\n",
       "      <td>98</td>\n",
       "    </tr>\n",
       "  </tbody>\n",
       "</table>\n",
       "</div>"
      ],
      "text/plain": [
       "        bread  butter\n",
       "city                 \n",
       "Austin    326      70\n",
       "Dallas    456      98"
      ]
     },
     "execution_count": 15,
     "metadata": {},
     "output_type": "execute_result"
    }
   ],
   "source": [
    "# Groupby and max\n",
    "sales.groupby('city')[['bread','butter']].max()"
   ]
  },
  {
   "cell_type": "markdown",
   "metadata": {},
   "source": [
    "# Grouping by multiple columns"
   ]
  },
  {
   "cell_type": "code",
   "execution_count": 8,
   "metadata": {
    "collapsed": false
   },
   "outputs": [
    {
     "data": {
      "text/html": [
       "<div>\n",
       "<table border=\"1\" class=\"dataframe\">\n",
       "  <thead>\n",
       "    <tr style=\"text-align: right;\">\n",
       "      <th></th>\n",
       "      <th></th>\n",
       "      <th>bread</th>\n",
       "      <th>butter</th>\n",
       "    </tr>\n",
       "    <tr>\n",
       "      <th>city</th>\n",
       "      <th>weekday</th>\n",
       "      <th></th>\n",
       "      <th></th>\n",
       "    </tr>\n",
       "  </thead>\n",
       "  <tbody>\n",
       "    <tr>\n",
       "      <th rowspan=\"2\" valign=\"top\">Austin</th>\n",
       "      <th>Mon</th>\n",
       "      <td>326</td>\n",
       "      <td>70</td>\n",
       "    </tr>\n",
       "    <tr>\n",
       "      <th>Sun</th>\n",
       "      <td>139</td>\n",
       "      <td>20</td>\n",
       "    </tr>\n",
       "    <tr>\n",
       "      <th rowspan=\"2\" valign=\"top\">Dallas</th>\n",
       "      <th>Mon</th>\n",
       "      <td>456</td>\n",
       "      <td>98</td>\n",
       "    </tr>\n",
       "    <tr>\n",
       "      <th>Sun</th>\n",
       "      <td>237</td>\n",
       "      <td>45</td>\n",
       "    </tr>\n",
       "  </tbody>\n",
       "</table>\n",
       "</div>"
      ],
      "text/plain": [
       "                bread  butter\n",
       "city   weekday               \n",
       "Austin Mon        326      70\n",
       "       Sun        139      20\n",
       "Dallas Mon        456      98\n",
       "       Sun        237      45"
      ]
     },
     "execution_count": 8,
     "metadata": {},
     "output_type": "execute_result"
    }
   ],
   "source": [
    "# You need to pass in multiple columns in a list in square brackets to groupby on multiple columns\n",
    "sales.groupby(['city','weekday']).mean()"
   ]
  },
  {
   "cell_type": "markdown",
   "metadata": {},
   "source": [
    "# Calculating multiple aggregrations at the same time using the .agg method"
   ]
  },
  {
   "cell_type": "code",
   "execution_count": null,
   "metadata": {
    "collapsed": true
   },
   "outputs": [],
   "source": [
    "# The .agg() method can be used with a tuple or list of aggregations as input\n",
    "# When applying multiple aggregations on multiple columns, the aggregated DataFrame has a multi-level column index"
   ]
  },
  {
   "cell_type": "code",
   "execution_count": 16,
   "metadata": {
    "collapsed": false
   },
   "outputs": [
    {
     "data": {
      "text/html": [
       "<div>\n",
       "<table border=\"1\" class=\"dataframe\">\n",
       "  <thead>\n",
       "    <tr>\n",
       "      <th></th>\n",
       "      <th colspan=\"2\" halign=\"left\">bread</th>\n",
       "      <th colspan=\"2\" halign=\"left\">butter</th>\n",
       "    </tr>\n",
       "    <tr>\n",
       "      <th></th>\n",
       "      <th>max</th>\n",
       "      <th>sum</th>\n",
       "      <th>max</th>\n",
       "      <th>sum</th>\n",
       "    </tr>\n",
       "    <tr>\n",
       "      <th>city</th>\n",
       "      <th></th>\n",
       "      <th></th>\n",
       "      <th></th>\n",
       "      <th></th>\n",
       "    </tr>\n",
       "  </thead>\n",
       "  <tbody>\n",
       "    <tr>\n",
       "      <th>Austin</th>\n",
       "      <td>326</td>\n",
       "      <td>465</td>\n",
       "      <td>70</td>\n",
       "      <td>90</td>\n",
       "    </tr>\n",
       "    <tr>\n",
       "      <th>Dallas</th>\n",
       "      <td>456</td>\n",
       "      <td>693</td>\n",
       "      <td>98</td>\n",
       "      <td>143</td>\n",
       "    </tr>\n",
       "  </tbody>\n",
       "</table>\n",
       "</div>"
      ],
      "text/plain": [
       "       bread      butter     \n",
       "         max  sum    max  sum\n",
       "city                         \n",
       "Austin   326  465     70   90\n",
       "Dallas   456  693     98  143"
      ]
     },
     "execution_count": 16,
     "metadata": {},
     "output_type": "execute_result"
    }
   ],
   "source": [
    "sales.groupby('city')[['bread','butter']].agg(['max','sum'])"
   ]
  },
  {
   "cell_type": "code",
   "execution_count": null,
   "metadata": {
    "collapsed": true
   },
   "outputs": [],
   "source": [
    "# Another example\n",
    "\n",
    "# Group titanic by 'pclass': by_class\n",
    "by_class = titanic.groupby('pclass')\n",
    "\n",
    "# Select 'age' and 'fare'\n",
    "by_class_sub = by_class[['age','fare']]\n",
    "\n",
    "# Aggregate by_class_sub by 'max' and 'median': aggregated\n",
    "aggregated = by_class_sub.agg(['max','median'])\n",
    "\n",
    "# Print the maximum age in each class\n",
    "print(aggregated.loc[:, ('age','max')])\n",
    "\n",
    "# Print the median fare in each class\n",
    "print(aggregated.loc[:, ('fare','median')])"
   ]
  },
  {
   "cell_type": "markdown",
   "metadata": {},
   "source": [
    "# Aggregating on index levels/fields"
   ]
  },
  {
   "cell_type": "code",
   "execution_count": null,
   "metadata": {
    "collapsed": true
   },
   "outputs": [],
   "source": [
    "# If you have a DataFrame with a multi-level row index, the individual levels can be used to perform the groupby\n",
    "# This allows advanced aggregation techniques to be applied along one or more levels in the index and across one or more columns."
   ]
  },
  {
   "cell_type": "code",
   "execution_count": null,
   "metadata": {
    "collapsed": true
   },
   "outputs": [],
   "source": [
    "# Read the CSV file into a DataFrame and sort the index: gapminder\n",
    "gapminder = pd.read_csv('gapminder.csv', index_col=['Year','region','Country']).sort_index()\n",
    "\n",
    "# Group gapminder by 'Year' and 'region: by_year_region\n",
    "by_year_region = gapminder.groupby(level=['Year','region'])\n",
    "\n",
    "# Define the function to compute spread: spread\n",
    "def spread(series):\n",
    "    return series.max() - series.min()\n",
    "\n",
    "# Create the dictionary: aggregator\n",
    "aggregator = {'population':'sum', 'child_mortality':'mean', 'gdp':spread}\n",
    "\n",
    "# Aggregate by_year_region using the dictionary: aggregated\n",
    "aggregated = by_year_region.agg(aggregator)\n",
    "\n",
    "# Print the last 6 entries of aggregated \n",
    "print(aggregated.tail(6))"
   ]
  },
  {
   "cell_type": "markdown",
   "metadata": {},
   "source": [
    "# Grouping on a function of the index, e.g. day of week from a datetime index"
   ]
  },
  {
   "cell_type": "code",
   "execution_count": null,
   "metadata": {
    "collapsed": true
   },
   "outputs": [],
   "source": [
    "# Groubpy operations can also be performed on transformations of the index values\n",
    "# In the case of a DateTimeIndex, we can extract portions of the datetime over which to group\n",
    "# Read file: sales\n",
    "sales = pd.read_csv('sales.csv', index_col='Date', parse_dates=True)\n",
    "\n",
    "# Create a groupby object: by_day\n",
    "# Use .strftime('%a') to transform the index datetime values to abbreviated days of the week\n",
    "by_day = sales.groupby(sales.index.strftime('%a'))\n",
    "\n",
    "# Create sum: units_sum\n",
    "units_sum = by_day['Units'].sum()\n",
    "\n",
    "# Print units_sum\n",
    "print(units_sum)"
   ]
  },
  {
   "cell_type": "markdown",
   "metadata": {},
   "source": [
    "# Writing custom functions for aggregation and pass these to the .agg method"
   ]
  },
  {
   "cell_type": "code",
   "execution_count": 17,
   "metadata": {
    "collapsed": true
   },
   "outputs": [],
   "source": [
    "# This function to calculate the range accepts a series and returns a single number\n",
    "def data_range(series):\n",
    "    return series.max() - series.min()"
   ]
  },
  {
   "cell_type": "code",
   "execution_count": 18,
   "metadata": {
    "collapsed": false
   },
   "outputs": [
    {
     "data": {
      "text/html": [
       "<div>\n",
       "<table border=\"1\" class=\"dataframe\">\n",
       "  <thead>\n",
       "    <tr style=\"text-align: right;\">\n",
       "      <th></th>\n",
       "      <th>bread</th>\n",
       "      <th>butter</th>\n",
       "    </tr>\n",
       "    <tr>\n",
       "      <th>weekday</th>\n",
       "      <th></th>\n",
       "      <th></th>\n",
       "    </tr>\n",
       "  </thead>\n",
       "  <tbody>\n",
       "    <tr>\n",
       "      <th>Mon</th>\n",
       "      <td>130</td>\n",
       "      <td>28</td>\n",
       "    </tr>\n",
       "    <tr>\n",
       "      <th>Sun</th>\n",
       "      <td>98</td>\n",
       "      <td>25</td>\n",
       "    </tr>\n",
       "  </tbody>\n",
       "</table>\n",
       "</div>"
      ],
      "text/plain": [
       "         bread  butter\n",
       "weekday               \n",
       "Mon        130      28\n",
       "Sun         98      25"
      ]
     },
     "execution_count": 18,
     "metadata": {},
     "output_type": "execute_result"
    }
   ],
   "source": [
    "sales.groupby('weekday')[['bread', 'butter']].agg(data_range)"
   ]
  },
  {
   "cell_type": "markdown",
   "metadata": {},
   "source": [
    "# Custom aggregation using dictionaries and passing these to the .agg method"
   ]
  },
  {
   "cell_type": "code",
   "execution_count": 19,
   "metadata": {
    "collapsed": false
   },
   "outputs": [
    {
     "data": {
      "text/html": [
       "<div>\n",
       "<table border=\"1\" class=\"dataframe\">\n",
       "  <thead>\n",
       "    <tr style=\"text-align: right;\">\n",
       "      <th></th>\n",
       "      <th>bread</th>\n",
       "      <th>butter</th>\n",
       "    </tr>\n",
       "  </thead>\n",
       "  <tbody>\n",
       "    <tr>\n",
       "      <th>Alice</th>\n",
       "      <td>693</td>\n",
       "      <td>53</td>\n",
       "    </tr>\n",
       "    <tr>\n",
       "      <th>Bob</th>\n",
       "      <td>326</td>\n",
       "      <td>0</td>\n",
       "    </tr>\n",
       "    <tr>\n",
       "      <th>Dave</th>\n",
       "      <td>139</td>\n",
       "      <td>0</td>\n",
       "    </tr>\n",
       "  </tbody>\n",
       "</table>\n",
       "</div>"
      ],
      "text/plain": [
       "       bread  butter\n",
       "Alice    693      53\n",
       "Bob      326       0\n",
       "Dave     139       0"
      ]
     },
     "execution_count": 19,
     "metadata": {},
     "output_type": "execute_result"
    }
   ],
   "source": [
    "sales.groupby(customers)[['bread', 'butter']].agg({'bread':'sum', 'butter':data_range})"
   ]
  },
  {
   "cell_type": "markdown",
   "metadata": {},
   "source": [
    "# Groupby and sum: by series"
   ]
  },
  {
   "cell_type": "code",
   "execution_count": 9,
   "metadata": {
    "collapsed": false
   },
   "outputs": [
    {
     "data": {
      "text/plain": [
       "0     Dave\n",
       "1    Alice\n",
       "2      Bob\n",
       "3    Alice\n",
       "dtype: object"
      ]
     },
     "execution_count": 9,
     "metadata": {},
     "output_type": "execute_result"
    }
   ],
   "source": [
    "customers = pd.Series(['Dave','Alice','Bob','Alice'])\n",
    "customers"
   ]
  },
  {
   "cell_type": "code",
   "execution_count": 10,
   "metadata": {
    "collapsed": false
   },
   "outputs": [
    {
     "data": {
      "text/plain": [
       "Alice    693\n",
       "Bob      326\n",
       "Dave     139\n",
       "Name: bread, dtype: int64"
      ]
     },
     "execution_count": 10,
     "metadata": {},
     "output_type": "execute_result"
    }
   ],
   "source": [
    "# Group by customers (series - no quotes), select the bread column and apply the sum method\n",
    "sales.groupby(customers)['bread'].sum()"
   ]
  },
  {
   "cell_type": "code",
   "execution_count": null,
   "metadata": {
    "collapsed": true
   },
   "outputs": [],
   "source": [
    "# Another example\n",
    "\n",
    "# Read life_fname into a DataFrame: life\n",
    "life = pd.read_csv(life_fname, index_col='Country')\n",
    "\n",
    "# Read regions_fname into a DataFrame: regions\n",
    "regions = pd.read_csv(regions_fname, index_col='Country')\n",
    "\n",
    "# Group life by regions['region']: life_by_region\n",
    "life_by_region = life.groupby(regions['region'])\n",
    "\n",
    "# Print the mean over the '2010' column of life_by_region\n",
    "print(life_by_region['2010'].mean())"
   ]
  },
  {
   "cell_type": "markdown",
   "metadata": {},
   "source": [
    "# Groupby and filtering in one step with .apply()"
   ]
  },
  {
   "cell_type": "code",
   "execution_count": null,
   "metadata": {
    "collapsed": true
   },
   "outputs": [],
   "source": [
    "# By using .apply(), you can write functions that filter rows within groups\n",
    "# The .apply() method will handle the iteration over individual groups and then re-combine them back into a Series or DataFrame.\n",
    "\n",
    "# Function which calculates the mean survival rates on the 'C' deck\n",
    "def c_deck_survival(gr):\n",
    "    c_passengers = gr['cabin'].str.startswith('C').fillna(False)\n",
    "    return gr.loc[c_passengers, 'survived'].mean()\n",
    "\n",
    "# Create a groupby object using titanic over the 'sex' column: by_sex\n",
    "by_sex = titanic.groupby('sex')\n",
    "\n",
    "# Call by_sex.apply with the function c_deck_survival and print the result\n",
    "c_surv_by_sex = by_sex.apply(c_deck_survival)\n",
    "\n",
    "# Print the survival rates\n",
    "print(c_surv_by_sex)"
   ]
  },
  {
   "cell_type": "markdown",
   "metadata": {},
   "source": [
    "# Grouping and filtering with .filter()"
   ]
  },
  {
   "cell_type": "code",
   "execution_count": null,
   "metadata": {
    "collapsed": true
   },
   "outputs": [],
   "source": [
    "# You can use groupby with the .filter() method to remove whole groups of rows from a DataFrame based a boolean condition\n",
    "\n",
    "# Read the CSV file into a DataFrame: sales\n",
    "sales = pd.read_csv('sales.csv', index_col='Date', parse_dates=True)\n",
    "\n",
    "# Group sales by 'Company': by_company\n",
    "by_company = sales.groupby('Company')\n",
    "\n",
    "# Compute the sum of the 'Units' of by_company: by_com_sum\n",
    "by_com_sum = by_company['Units'].sum()\n",
    "print(by_com_sum)\n",
    "\n",
    "# Filter 'Units' where the sum is > 35: by_com_filt\n",
    "by_com_filt = by_company.filter(lambda g:g['Units'].sum() > 35)\n",
    "print(by_com_filt)"
   ]
  },
  {
   "cell_type": "markdown",
   "metadata": {},
   "source": [
    "# Filtering and grouping with .map()"
   ]
  },
  {
   "cell_type": "code",
   "execution_count": null,
   "metadata": {
    "collapsed": true
   },
   "outputs": [],
   "source": [
    "# You have seen how to group by a column, or by multiple columns\n",
    "# Sometimes, you may instead want to group by a function/transformation of a column\n",
    "# The key here is that the Series is indexed the same way as the DataFrame. \n",
    "# You can also mix and match column grouping with Series grouping\n",
    "\n",
    "# Create the Boolean Series: under10\n",
    "under10 = (titanic['age'] < 10).map({True:'under 10', False:'over 10'})\n",
    "\n",
    "# Group by under10 and compute the survival rate\n",
    "survived_mean_1 = titanic.groupby(under10)['survived'].mean()\n",
    "print(survived_mean_1)\n",
    "\n",
    "# Group by under10 and pclass and compute the survival rate\n",
    "survived_mean_2 = titanic.groupby([under10,'pclass'])['survived'].mean()\n",
    "print(survived_mean_2)"
   ]
  },
  {
   "cell_type": "markdown",
   "metadata": {},
   "source": [
    "# Categorical data - uses less memory and speeds up operations like groupby()"
   ]
  },
  {
   "cell_type": "code",
   "execution_count": 13,
   "metadata": {
    "collapsed": true
   },
   "outputs": [],
   "source": [
    "# Behind the scenes the series lookups are stored using small integers (less than a byte each) and a separate look-up table"
   ]
  },
  {
   "cell_type": "code",
   "execution_count": 11,
   "metadata": {
    "collapsed": false
   },
   "outputs": [
    {
     "data": {
      "text/plain": [
       "<bound method Series.unique of 0    Sun\n",
       "1    Sun\n",
       "2    Mon\n",
       "3    Mon\n",
       "Name: weekday, dtype: object>"
      ]
     },
     "execution_count": 11,
     "metadata": {},
     "output_type": "execute_result"
    }
   ],
   "source": [
    "sales['weekday'].unique"
   ]
  },
  {
   "cell_type": "code",
   "execution_count": 12,
   "metadata": {
    "collapsed": false
   },
   "outputs": [
    {
     "data": {
      "text/plain": [
       "0    Sun\n",
       "1    Sun\n",
       "2    Mon\n",
       "3    Mon\n",
       "Name: weekday, dtype: category\n",
       "Categories (2, object): [Mon, Sun]"
      ]
     },
     "execution_count": 12,
     "metadata": {},
     "output_type": "execute_result"
    }
   ],
   "source": [
    "# Specify that weekday is a categorical data type - see output below\n",
    "sales['weekday'] = sales['weekday'].astype('category')\n",
    "sales['weekday']"
   ]
  },
  {
   "cell_type": "markdown",
   "metadata": {},
   "source": [
    "# Detecting outliers with Z-Scores using the .transform() method"
   ]
  },
  {
   "cell_type": "code",
   "execution_count": null,
   "metadata": {
    "collapsed": true
   },
   "outputs": [],
   "source": [
    "# You can apply a .transform() method after grouping to apply a function to groups of data independently\n",
    "# The z-score is also useful to find outliers: a z-score value of +/- 3 is generally considered to be an outlier\n",
    "\n",
    "# Import zscore\n",
    "from scipy.stats import zscore\n",
    "\n",
    "# Group gapminder_2010: standardized\n",
    "standardized = gapminder_2010.groupby('region')['life','fertility'].transform(zscore)\n",
    "\n",
    "# Construct a Boolean Series to identify outliers: outliers\n",
    "outliers = (standardized['life'] < -3) | (standardized['fertility'] > 3)\n",
    "\n",
    "# Filter gapminder_2010 by the outliers: gm_outliers\n",
    "gm_outliers = gapminder_2010.loc[outliers]\n",
    "\n",
    "# Print gm_outliers\n",
    "print(gm_outliers)"
   ]
  },
  {
   "cell_type": "markdown",
   "metadata": {},
   "source": [
    "# Filling missing data (imputation) by group"
   ]
  },
  {
   "cell_type": "code",
   "execution_count": null,
   "metadata": {
    "collapsed": true
   },
   "outputs": [],
   "source": [
    "# Many statistical and machine learning packages cannot determine the best action to take when missing data entries are encountered.\n",
    "# Dealing with missing data is natural in pandas (both in using the default behavior and in defining a custom behavior)\n",
    "# You can use the .dropna() method to drop missing values OR you can impute missing values!!!\n",
    "# You can use .groupby() and .transform() to fill missing data appropriately for each group\n",
    "\n",
    "# Your job is to fill in missing 'age' values for passengers on the Titanic with the median age from their 'gender' and 'pclass'\n",
    "# To do this, you'll group by the 'sex' and 'pclass' columns and transform each group with a custom function to call .fillna() and impute the median value\n",
    "\n",
    "# Create a groupby object: by_sex_class\n",
    "by_sex_class = titanic.groupby(['sex','pclass'])\n",
    "\n",
    "# Write a function that imputes median\n",
    "def impute_median(series):\n",
    "    return series.fillna(series.median())\n",
    "\n",
    "# Impute age and assign to titanic['age']\n",
    "titanic['age'] = by_sex_class['age'].transform(impute_median)\n",
    "\n",
    "# Print the output of titanic.tail(10)\n",
    "print(titanic.tail(10))"
   ]
  },
  {
   "cell_type": "markdown",
   "metadata": {},
   "source": [
    "# Other transformations with .apply"
   ]
  },
  {
   "cell_type": "code",
   "execution_count": null,
   "metadata": {
    "collapsed": true
   },
   "outputs": [],
   "source": [
    "# The .apply() method when used on a groupby object performs an arbitrary function on each of the groups\n",
    "# These functions can be aggregations, transformations or more complex workflows\n",
    "# The .apply() method will then combine the results in an intelligent way\n",
    "\n",
    "# A function to compute the aggregate spread of per capita GDP in each region and the individual country's z-score of the regional per capita GDP\n",
    "def disparity(gr):\n",
    "    # Compute the spread of gr['gdp']: s\n",
    "    s = gr['gdp'].max() - gr['gdp'].min()\n",
    "    # Compute the z-score of gr['gdp'] as (gr['gdp']-gr['gdp'].mean())/gr['gdp'].std(): z\n",
    "    z = (gr['gdp'] - gr['gdp'].mean())/gr['gdp'].std()\n",
    "    # Return a DataFrame with the inputs {'z(gdp)':z, 'regional spread(gdp)':s}\n",
    "    return pd.DataFrame({'z(gdp)':z , 'regional spread(gdp)':s})\n",
    "\n",
    "# Group gapminder_2010 by 'region': regional\n",
    "regional = gapminder_2010.groupby('region')\n",
    "\n",
    "# Apply the disparity function on regional: reg_disp\n",
    "reg_disp = regional.apply(disparity)\n",
    "\n",
    "# Print the disparity of 'United States', 'United Kingdom', and 'China'\n",
    "print(reg_disp.loc[['United States','United Kingdom','China']])"
   ]
  },
  {
   "cell_type": "markdown",
   "metadata": {},
   "source": [
    "# Case study!!!"
   ]
  },
  {
   "cell_type": "code",
   "execution_count": null,
   "metadata": {
    "collapsed": true
   },
   "outputs": [],
   "source": [
    "# Reminder: \n",
    "# Indexing & pivoting\n",
    "# - Filtering and indexing: one-level indexing AND multi-level indexing\n",
    "# - Reshaping DataFrames with pivot() and pivot_table()\n",
    "\n",
    "# groupby\n",
    "# - Useful DataFrame methods unique() AND value_counts()\n",
    "# - Aggregations, transformations, filtering"
   ]
  },
  {
   "cell_type": "code",
   "execution_count": null,
   "metadata": {
    "collapsed": true
   },
   "outputs": [],
   "source": [
    "# The Olympic medal data for the following exercises comes from The Guardian\n",
    "# It comprises records of all events held at the Olympic games between 1896 and 2012."
   ]
  },
  {
   "cell_type": "code",
   "execution_count": 27,
   "metadata": {
    "collapsed": false
   },
   "outputs": [],
   "source": [
    "import pandas as pd\n",
    "# Assign spreadsheet filename: file\n",
    "file = 'Summer Olympic medallists 1896 to 2008.xlsx'"
   ]
  },
  {
   "cell_type": "code",
   "execution_count": 28,
   "metadata": {
    "collapsed": false
   },
   "outputs": [],
   "source": [
    "# Load spreadsheet: xl\n",
    "olympics_xl = pd.ExcelFile(file)"
   ]
  },
  {
   "cell_type": "code",
   "execution_count": 31,
   "metadata": {
    "collapsed": false
   },
   "outputs": [
    {
     "name": "stdout",
     "output_type": "stream",
     "text": [
      "['Form Responses 2', 'Form Responses 1', 'ALL MEDALISTS', 'BREAKDOWN', 'COUNTRY TOTALS', 'IOC COUNTRY CODES', 'TEAM EVENTS FIXED, ALL YRS TOTA', 'Sheet8', 'IOC COUNTRY CODES 1', 'TOPOLYMPIANS']\n"
     ]
    }
   ],
   "source": [
    "# Print sheet names\n",
    "print(olympics_xl.sheet_names)\n",
    "\n",
    "# Load a sheet into a DataFrame by name: df1\n",
    "medals = olympics_xl.parse('ALL MEDALISTS', skiprows = 4, \n",
    "                            names=['City', 'Edition', 'Sport', 'Discipline','Athlete','NOC','Gender','Event','Event_gender','Medal'])"
   ]
  },
  {
   "cell_type": "code",
   "execution_count": 30,
   "metadata": {
    "collapsed": false
   },
   "outputs": [
    {
     "data": {
      "text/html": [
       "<div>\n",
       "<table border=\"1\" class=\"dataframe\">\n",
       "  <thead>\n",
       "    <tr style=\"text-align: right;\">\n",
       "      <th></th>\n",
       "      <th>City</th>\n",
       "      <th>Edition</th>\n",
       "      <th>Sport</th>\n",
       "      <th>Discipline</th>\n",
       "      <th>Athlete</th>\n",
       "      <th>NOC</th>\n",
       "      <th>Gender</th>\n",
       "      <th>Event</th>\n",
       "      <th>Event_gender</th>\n",
       "      <th>Medal</th>\n",
       "    </tr>\n",
       "  </thead>\n",
       "  <tbody>\n",
       "    <tr>\n",
       "      <th>0</th>\n",
       "      <td>Athens</td>\n",
       "      <td>1896</td>\n",
       "      <td>Aquatics</td>\n",
       "      <td>Swimming</td>\n",
       "      <td>HAJOS, Alfred</td>\n",
       "      <td>HUN</td>\n",
       "      <td>Men</td>\n",
       "      <td>100m freestyle</td>\n",
       "      <td>M</td>\n",
       "      <td>Gold</td>\n",
       "    </tr>\n",
       "    <tr>\n",
       "      <th>1</th>\n",
       "      <td>Athens</td>\n",
       "      <td>1896</td>\n",
       "      <td>Aquatics</td>\n",
       "      <td>Swimming</td>\n",
       "      <td>HERSCHMANN, Otto</td>\n",
       "      <td>AUT</td>\n",
       "      <td>Men</td>\n",
       "      <td>100m freestyle</td>\n",
       "      <td>M</td>\n",
       "      <td>Silver</td>\n",
       "    </tr>\n",
       "    <tr>\n",
       "      <th>2</th>\n",
       "      <td>Athens</td>\n",
       "      <td>1896</td>\n",
       "      <td>Aquatics</td>\n",
       "      <td>Swimming</td>\n",
       "      <td>DRIVAS, Dimitrios</td>\n",
       "      <td>GRE</td>\n",
       "      <td>Men</td>\n",
       "      <td>100m freestyle for sailors</td>\n",
       "      <td>M</td>\n",
       "      <td>Bronze</td>\n",
       "    </tr>\n",
       "    <tr>\n",
       "      <th>3</th>\n",
       "      <td>Athens</td>\n",
       "      <td>1896</td>\n",
       "      <td>Aquatics</td>\n",
       "      <td>Swimming</td>\n",
       "      <td>MALOKINIS, Ioannis</td>\n",
       "      <td>GRE</td>\n",
       "      <td>Men</td>\n",
       "      <td>100m freestyle for sailors</td>\n",
       "      <td>M</td>\n",
       "      <td>Gold</td>\n",
       "    </tr>\n",
       "    <tr>\n",
       "      <th>4</th>\n",
       "      <td>Athens</td>\n",
       "      <td>1896</td>\n",
       "      <td>Aquatics</td>\n",
       "      <td>Swimming</td>\n",
       "      <td>CHASAPIS, Spiridon</td>\n",
       "      <td>GRE</td>\n",
       "      <td>Men</td>\n",
       "      <td>100m freestyle for sailors</td>\n",
       "      <td>M</td>\n",
       "      <td>Silver</td>\n",
       "    </tr>\n",
       "  </tbody>\n",
       "</table>\n",
       "</div>"
      ],
      "text/plain": [
       "     City  Edition     Sport Discipline             Athlete  NOC Gender  \\\n",
       "0  Athens     1896  Aquatics   Swimming       HAJOS, Alfred  HUN    Men   \n",
       "1  Athens     1896  Aquatics   Swimming    HERSCHMANN, Otto  AUT    Men   \n",
       "2  Athens     1896  Aquatics   Swimming   DRIVAS, Dimitrios  GRE    Men   \n",
       "3  Athens     1896  Aquatics   Swimming  MALOKINIS, Ioannis  GRE    Men   \n",
       "4  Athens     1896  Aquatics   Swimming  CHASAPIS, Spiridon  GRE    Men   \n",
       "\n",
       "                        Event Event_gender   Medal  \n",
       "0              100m freestyle            M    Gold  \n",
       "1              100m freestyle            M  Silver  \n",
       "2  100m freestyle for sailors            M  Bronze  \n",
       "3  100m freestyle for sailors            M    Gold  \n",
       "4  100m freestyle for sailors            M  Silver  "
      ]
     },
     "execution_count": 30,
     "metadata": {},
     "output_type": "execute_result"
    }
   ],
   "source": [
    "olympics_df.head()"
   ]
  },
  {
   "cell_type": "code",
   "execution_count": 32,
   "metadata": {
    "collapsed": false
   },
   "outputs": [
    {
     "name": "stdout",
     "output_type": "stream",
     "text": [
      "USA    4335\n",
      "URS    2049\n",
      "GBR    1594\n",
      "FRA    1314\n",
      "ITA    1228\n",
      "GER    1211\n",
      "AUS    1075\n",
      "HUN    1053\n",
      "SWE    1021\n",
      "GDR     825\n",
      "NED     782\n",
      "JPN     704\n",
      "CHN     679\n",
      "RUS     638\n",
      "ROU     624\n",
      "Name: NOC, dtype: int64\n"
     ]
    }
   ],
   "source": [
    "# Use the pandas Series method .value_counts() to determine the top 15 countries ranked by total number of medals\n",
    "\n",
    "# Select the 'NOC' column of medals: country_names\n",
    "country_names = medals['NOC']\n",
    "\n",
    "# Count the number of medals won by each country: medal_counts\n",
    "# Notice that .value_counts() sorts by values by default\n",
    "# The result is returned as a Series of counts indexed by unique entries from the original Series with values (counts) ranked in descending order.\n",
    "medal_counts = country_names.value_counts()\n",
    "\n",
    "# Print top 15 countries ranked by medals\n",
    "print(medal_counts.head(15))"
   ]
  },
  {
   "cell_type": "code",
   "execution_count": 33,
   "metadata": {
    "collapsed": false
   },
   "outputs": [
    {
     "name": "stdout",
     "output_type": "stream",
     "text": [
      "Medal  Bronze    Gold  Silver  totals\n",
      "NOC                                  \n",
      "USA    1052.0  2088.0  1195.0  4335.0\n",
      "URS     584.0   838.0   627.0  2049.0\n",
      "GBR     505.0   498.0   591.0  1594.0\n",
      "FRA     475.0   378.0   461.0  1314.0\n",
      "ITA     374.0   460.0   394.0  1228.0\n",
      "GER     454.0   407.0   350.0  1211.0\n",
      "AUS     413.0   293.0   369.0  1075.0\n",
      "HUN     345.0   400.0   308.0  1053.0\n",
      "SWE     325.0   347.0   349.0  1021.0\n",
      "GDR     225.0   329.0   271.0   825.0\n",
      "NED     320.0   212.0   250.0   782.0\n",
      "JPN     270.0   206.0   228.0   704.0\n",
      "CHN     193.0   234.0   252.0   679.0\n",
      "RUS     240.0   192.0   206.0   638.0\n",
      "ROU     282.0   155.0   187.0   624.0\n"
     ]
    }
   ],
   "source": [
    "# Using .pivot_table() to count medals by type\n",
    "\n",
    "# Construct the pivot table: counted\n",
    "counted = medals.pivot_table(index='NOC', columns='Medal', values='Athlete', aggfunc='count')\n",
    "\n",
    "# Create the new column: counted['totals']\n",
    "counted['totals'] = counted.sum(axis='columns')\n",
    "\n",
    "# Sort counted by the 'totals' column\n",
    "counted = counted.sort_values('totals', ascending=False)\n",
    "\n",
    "# Print the top 15 rows of counted\n",
    "print(counted.head(15))"
   ]
  },
  {
   "cell_type": "code",
   "execution_count": 34,
   "metadata": {
    "collapsed": false
   },
   "outputs": [
    {
     "name": "stdout",
     "output_type": "stream",
     "text": [
      "      Event_gender Gender\n",
      "0                M    Men\n",
      "348              X    Men\n",
      "416              W  Women\n",
      "639              X  Women\n",
      "23675            W    Men\n"
     ]
    }
   ],
   "source": [
    "# Applying .drop_duplicates()\n",
    "# In particular, you should not see something like (Event_gender='M', Gender='Women')\n",
    "# However, you will see that, strangely enough, there is an observation with (Event_gender='W', Gender='Men')\n",
    "# The duplicates can be dropped using the .drop_duplicates() method, leaving behind the unique observations\n",
    "\n",
    "# Select columns: ev_gen\n",
    "ev_gen = medals[['Event_gender','Gender']]\n",
    "\n",
    "# Drop duplicate pairs: ev_gen_uniques\n",
    "ev_gen_uniques = ev_gen.drop_duplicates()\n",
    "\n",
    "# Print ev_gen_uniques\n",
    "print(ev_gen_uniques)"
   ]
  },
  {
   "cell_type": "markdown",
   "metadata": {},
   "source": [
    "# Finding possible errors with .groupby()"
   ]
  },
  {
   "cell_type": "code",
   "execution_count": 35,
   "metadata": {
    "collapsed": false
   },
   "outputs": [
    {
     "name": "stdout",
     "output_type": "stream",
     "text": [
      "                      City  Edition  Sport  Discipline  Athlete    NOC  Event  \\\n",
      "Event_gender Gender                                                             \n",
      "M            Men     20067    20067  20067       20067    20067  20067  20067   \n",
      "W            Men         1        1      1           1        1      1      1   \n",
      "             Women    7277     7277   7277        7277     7277   7277   7277   \n",
      "X            Men      1653     1653   1653        1653     1653   1653   1653   \n",
      "             Women     218      218    218         218      218    218    218   \n",
      "\n",
      "                     Medal  \n",
      "Event_gender Gender         \n",
      "M            Men     20067  \n",
      "W            Men         1  \n",
      "             Women    7277  \n",
      "X            Men      1653  \n",
      "             Women     218  \n"
     ]
    }
   ],
   "source": [
    "# Group medals by the two columns: medals_by_gender\n",
    "medals_by_gender = medals.groupby(['Event_gender','Gender'])\n",
    "\n",
    "# Create a DataFrame with a group count: medal_count_by_gender\n",
    "medal_count_by_gender = medals_by_gender.count()\n",
    "\n",
    "# Print medal_count_by_gender\n",
    "print(medal_count_by_gender)"
   ]
  },
  {
   "cell_type": "markdown",
   "metadata": {},
   "source": [
    "# Locating suspicious data"
   ]
  },
  {
   "cell_type": "code",
   "execution_count": null,
   "metadata": {
    "collapsed": true
   },
   "outputs": [],
   "source": [
    "# Create the Boolean Series: sus\n",
    "sus = (medals.Event_gender == 'W') & (medals.Gender == 'Men')\n",
    "\n",
    "# Create a DataFrame with the suspicious row: suspect\n",
    "suspect = medals[sus]\n",
    "\n",
    "# Print suspect\n",
    "print(suspect)"
   ]
  },
  {
   "cell_type": "markdown",
   "metadata": {},
   "source": [
    "# Using .nunique() to rank by distinct sports, e.g. Top five countries that have won medals in the most sports "
   ]
  },
  {
   "cell_type": "code",
   "execution_count": 37,
   "metadata": {
    "collapsed": false
   },
   "outputs": [
    {
     "name": "stdout",
     "output_type": "stream",
     "text": [
      "<pandas.core.groupby.DataFrameGroupBy object at 0x1093e0b70>\n",
      "NOC\n",
      "USA    34\n",
      "GBR    31\n",
      "FRA    28\n",
      "GER    26\n",
      "CHN    24\n",
      "AUS    22\n",
      "ESP    22\n",
      "CAN    22\n",
      "SWE    21\n",
      "URS    21\n",
      "ITA    21\n",
      "NED    20\n",
      "RUS    20\n",
      "JPN    20\n",
      "DEN    19\n",
      "Name: Sport, dtype: int64\n"
     ]
    }
   ],
   "source": [
    "# Given a categorical Series S, S.nunique() returns the number of distinct categories\n",
    "\n",
    "# Group medals by 'NOC': country_grouped\n",
    "country_grouped = medals.groupby('NOC')\n",
    "\n",
    "# Compute the number of distinct sports in which each country won medals: Nsports\n",
    "Nsports = country_grouped['Sport'].nunique()\n",
    "\n",
    "# Sort the values of Nsports in descending order\n",
    "Nsports = Nsports.sort_values(ascending=False)\n",
    "\n",
    "# Print the top 15 rows of Nsports\n",
    "print(Nsports.head(15))"
   ]
  },
  {
   "cell_type": "markdown",
   "metadata": {},
   "source": [
    "# Counting USA vs. USSR Cold War Olympic Sports"
   ]
  },
  {
   "cell_type": "code",
   "execution_count": 44,
   "metadata": {
    "collapsed": false
   },
   "outputs": [],
   "source": [
    "# Extract all rows for which the 'Edition' is between 1952 & 1988: during_cold_war\n",
    "during_cold_war = (medals.Edition>=1952) & (medals.Edition<=1988)"
   ]
  },
  {
   "cell_type": "code",
   "execution_count": 51,
   "metadata": {
    "collapsed": false
   },
   "outputs": [],
   "source": [
    "# Extract rows for which 'NOC' is either 'USA' or 'URS': is_usa_urs\n",
    "is_usa_urs = medals.NOC.isin(['USA', 'URS'])"
   ]
  },
  {
   "cell_type": "code",
   "execution_count": 52,
   "metadata": {
    "collapsed": false
   },
   "outputs": [],
   "source": [
    "# Use during_cold_war and is_usa_urs to create the DataFrame: cold_war_medals\n",
    "cold_war_medals = medals.loc[during_cold_war & is_usa_urs]"
   ]
  },
  {
   "cell_type": "code",
   "execution_count": 53,
   "metadata": {
    "collapsed": false
   },
   "outputs": [
    {
     "name": "stdout",
     "output_type": "stream",
     "text": [
      "NOC\n",
      "URS    21\n",
      "USA    20\n",
      "Name: Sport, dtype: int64\n"
     ]
    }
   ],
   "source": [
    "# Group cold_war_medals by 'NOC'\n",
    "country_grouped = cold_war_medals.groupby('NOC')\n",
    "\n",
    "# Create Nsports\n",
    "Nsports = country_grouped['Sport'].nunique().sort_values(ascending=False)\n",
    "\n",
    "# Print Nsports\n",
    "print(Nsports)"
   ]
  },
  {
   "cell_type": "code",
   "execution_count": null,
   "metadata": {
    "collapsed": true
   },
   "outputs": [],
   "source": [
    "# Counting USA vs. USSR Cold War Olympic Medals"
   ]
  },
  {
   "cell_type": "code",
   "execution_count": 55,
   "metadata": {
    "collapsed": false
   },
   "outputs": [
    {
     "name": "stdout",
     "output_type": "stream",
     "text": [
      "NOC      AFG  AHO  ALG   ANZ   ARG  ARM    AUS   AUT  AZE  BAH  ...     URS  \\\n",
      "Edition                                                         ...           \n",
      "1896     NaN  NaN  NaN   NaN   NaN  NaN    2.0   5.0  NaN  NaN  ...     NaN   \n",
      "1900     NaN  NaN  NaN   NaN   NaN  NaN    5.0   6.0  NaN  NaN  ...     NaN   \n",
      "1904     NaN  NaN  NaN   NaN   NaN  NaN    NaN   1.0  NaN  NaN  ...     NaN   \n",
      "1908     NaN  NaN  NaN  19.0   NaN  NaN    NaN   1.0  NaN  NaN  ...     NaN   \n",
      "1912     NaN  NaN  NaN  10.0   NaN  NaN    NaN  14.0  NaN  NaN  ...     NaN   \n",
      "1920     NaN  NaN  NaN   NaN   NaN  NaN    6.0   NaN  NaN  NaN  ...     NaN   \n",
      "1924     NaN  NaN  NaN   NaN  11.0  NaN   10.0   4.0  NaN  NaN  ...     NaN   \n",
      "1928     NaN  NaN  NaN   NaN  32.0  NaN    4.0   4.0  NaN  NaN  ...     NaN   \n",
      "1932     NaN  NaN  NaN   NaN   4.0  NaN    5.0   5.0  NaN  NaN  ...     NaN   \n",
      "1936     NaN  NaN  NaN   NaN  11.0  NaN    1.0  50.0  NaN  NaN  ...     NaN   \n",
      "1948     NaN  NaN  NaN   NaN  12.0  NaN   16.0   4.0  NaN  NaN  ...     NaN   \n",
      "1952     NaN  NaN  NaN   NaN   6.0  NaN   20.0   3.0  NaN  NaN  ...   117.0   \n",
      "1956     NaN  NaN  NaN   NaN   2.0  NaN   61.0   4.0  NaN  2.0  ...   169.0   \n",
      "1960     NaN  NaN  NaN   NaN   4.0  NaN   36.0   3.0  NaN  NaN  ...   169.0   \n",
      "1964     NaN  NaN  NaN   NaN   1.0  NaN   42.0   NaN  NaN  2.0  ...   174.0   \n",
      "1968     NaN  NaN  NaN   NaN   2.0  NaN   49.0   5.0  NaN  NaN  ...   188.0   \n",
      "1972     NaN  NaN  NaN   NaN   1.0  NaN   20.0   3.0  NaN  NaN  ...   211.0   \n",
      "1976     NaN  NaN  NaN   NaN   NaN  NaN   24.0   1.0  NaN  NaN  ...   285.0   \n",
      "1980     NaN  NaN  NaN   NaN   NaN  NaN   12.0   5.0  NaN  NaN  ...   442.0   \n",
      "1984     NaN  NaN  2.0   NaN   NaN  NaN   50.0   3.0  NaN  NaN  ...     NaN   \n",
      "1988     NaN  1.0  NaN   NaN  13.0  NaN   34.0   1.0  NaN  NaN  ...   294.0   \n",
      "1992     NaN  NaN  2.0   NaN   2.0  NaN   57.0   6.0  NaN  1.0  ...     NaN   \n",
      "1996     NaN  NaN  3.0   NaN  20.0  2.0  132.0   3.0  1.0  5.0  ...     NaN   \n",
      "2000     NaN  NaN  5.0   NaN  20.0  1.0  183.0   4.0  3.0  6.0  ...     NaN   \n",
      "2004     NaN  NaN  NaN   NaN  47.0  NaN  157.0   8.0  5.0  2.0  ...     NaN   \n",
      "2008     1.0  NaN  2.0   NaN  51.0  6.0  149.0   3.0  7.0  5.0  ...     NaN   \n",
      "\n",
      "NOC       URU    USA  UZB  VEN  VIE   YUG  ZAM   ZIM   ZZX  \n",
      "Edition                                                     \n",
      "1896      NaN   20.0  NaN  NaN  NaN   NaN  NaN   NaN   6.0  \n",
      "1900      NaN   55.0  NaN  NaN  NaN   NaN  NaN   NaN  34.0  \n",
      "1904      NaN  394.0  NaN  NaN  NaN   NaN  NaN   NaN   8.0  \n",
      "1908      NaN   63.0  NaN  NaN  NaN   NaN  NaN   NaN   NaN  \n",
      "1912      NaN  101.0  NaN  NaN  NaN   NaN  NaN   NaN   NaN  \n",
      "1920      NaN  193.0  NaN  NaN  NaN   NaN  NaN   NaN   NaN  \n",
      "1924     22.0  198.0  NaN  NaN  NaN   2.0  NaN   NaN   NaN  \n",
      "1928     22.0   84.0  NaN  NaN  NaN  12.0  NaN   NaN   NaN  \n",
      "1932      1.0  181.0  NaN  NaN  NaN   NaN  NaN   NaN   NaN  \n",
      "1936      NaN   92.0  NaN  NaN  NaN   1.0  NaN   NaN   NaN  \n",
      "1948      3.0  148.0  NaN  NaN  NaN  16.0  NaN   NaN   NaN  \n",
      "1952     14.0  130.0  NaN  1.0  NaN  24.0  NaN   NaN   NaN  \n",
      "1956     12.0  118.0  NaN  NaN  NaN  23.0  NaN   NaN   NaN  \n",
      "1960      NaN  112.0  NaN  1.0  NaN  17.0  NaN   NaN   NaN  \n",
      "1964      1.0  150.0  NaN  NaN  NaN  15.0  NaN   NaN   NaN  \n",
      "1968      NaN  149.0  NaN  1.0  NaN  29.0  NaN   NaN   NaN  \n",
      "1972      NaN  155.0  NaN  NaN  NaN  18.0  NaN   NaN   NaN  \n",
      "1976      NaN  155.0  NaN  1.0  NaN  19.0  NaN   NaN   NaN  \n",
      "1980      NaN    NaN  NaN  1.0  NaN  57.0  NaN  16.0   NaN  \n",
      "1984      NaN  333.0  NaN  3.0  NaN  87.0  1.0   NaN   NaN  \n",
      "1988      NaN  193.0  NaN  NaN  NaN  63.0  NaN   NaN   NaN  \n",
      "1992      NaN  224.0  NaN  NaN  NaN   NaN  NaN   NaN   NaN  \n",
      "1996      NaN  260.0  2.0  NaN  NaN  26.0  1.0   NaN   NaN  \n",
      "2000      1.0  248.0  4.0  NaN  1.0  26.0  NaN   NaN   NaN  \n",
      "2004      NaN  264.0  5.0  2.0  NaN   NaN  NaN   3.0   NaN  \n",
      "2008      NaN  315.0  6.0  1.0  1.0   NaN  NaN   4.0   NaN  \n",
      "\n",
      "[26 rows x 138 columns]\n"
     ]
    }
   ],
   "source": [
    "# Create the pivot table: medals_won_by_country\n",
    "medals_won_by_country = medals.pivot_table(index='Edition', columns='NOC',values='Athlete', aggfunc='count')\n",
    "print(medals_won_by_country)"
   ]
  },
  {
   "cell_type": "code",
   "execution_count": 57,
   "metadata": {
    "collapsed": false
   },
   "outputs": [
    {
     "name": "stdout",
     "output_type": "stream",
     "text": [
      "NOC        USA    URS\n",
      "Edition              \n",
      "1952     130.0  117.0\n",
      "1956     118.0  169.0\n",
      "1960     112.0  169.0\n",
      "1964     150.0  174.0\n",
      "1968     149.0  188.0\n",
      "1972     155.0  211.0\n",
      "1976     155.0  285.0\n",
      "1980       NaN  442.0\n",
      "1984     333.0    NaN\n",
      "1988     193.0  294.0\n"
     ]
    }
   ],
   "source": [
    "# Slice medals_won_by_country: cold_war_usa_usr_medals\n",
    "cold_war_usa_usr_medals = medals_won_by_country.loc[1952:1988, ['USA','URS']]\n",
    "print(cold_war_usa_usr_medals)"
   ]
  },
  {
   "cell_type": "code",
   "execution_count": 59,
   "metadata": {
    "collapsed": false
   },
   "outputs": [
    {
     "name": "stdout",
     "output_type": "stream",
     "text": [
      "Edition\n",
      "1952    USA\n",
      "1956    URS\n",
      "1960    URS\n",
      "1964    URS\n",
      "1968    URS\n",
      "1972    URS\n",
      "1976    URS\n",
      "1980    URS\n",
      "1984    USA\n",
      "1988    URS\n",
      "dtype: object\n",
      "URS    8\n",
      "USA    2\n",
      "dtype: int64\n"
     ]
    }
   ],
   "source": [
    "# Create most_medals \n",
    "# idxmax(): Row or column label where maximum value is located \n",
    "most_medals = cold_war_usa_usr_medals.idxmax(axis='columns')\n",
    "print(most_medals)\n",
    "\n",
    "# Print most_medals.value_counts()\n",
    "# The result reported gives the number of times each of the USA or the USSR won more Olympic medals in total than the other between 1952 and 1988\n",
    "print(most_medals.value_counts())"
   ]
  },
  {
   "cell_type": "markdown",
   "metadata": {},
   "source": [
    "# Reshaping DataFrames for visualization"
   ]
  },
  {
   "cell_type": "code",
   "execution_count": 62,
   "metadata": {
    "collapsed": false
   },
   "outputs": [
    {
     "name": "stdout",
     "output_type": "stream",
     "text": [
      "          City  Edition       Sport       Discipline  \\\n",
      "11      Athens     1896   Athletics        Athletics   \n",
      "13      Athens     1896   Athletics        Athletics   \n",
      "15      Athens     1896   Athletics        Athletics   \n",
      "19      Athens     1896   Athletics        Athletics   \n",
      "21      Athens     1896   Athletics        Athletics   \n",
      "22      Athens     1896   Athletics        Athletics   \n",
      "27      Athens     1896   Athletics        Athletics   \n",
      "29      Athens     1896   Athletics        Athletics   \n",
      "30      Athens     1896   Athletics        Athletics   \n",
      "31      Athens     1896   Athletics        Athletics   \n",
      "32      Athens     1896   Athletics        Athletics   \n",
      "33      Athens     1896   Athletics        Athletics   \n",
      "34      Athens     1896   Athletics        Athletics   \n",
      "40      Athens     1896   Athletics        Athletics   \n",
      "41      Athens     1896   Athletics        Athletics   \n",
      "43      Athens     1896   Athletics        Athletics   \n",
      "46      Athens     1896   Athletics        Athletics   \n",
      "118     Athens     1896    Shooting         Shooting   \n",
      "119     Athens     1896    Shooting         Shooting   \n",
      "124     Athens     1896    Shooting         Shooting   \n",
      "231      Paris     1900   Athletics        Athletics   \n",
      "232      Paris     1900   Athletics        Athletics   \n",
      "233      Paris     1900   Athletics        Athletics   \n",
      "234      Paris     1900   Athletics        Athletics   \n",
      "235      Paris     1900   Athletics        Athletics   \n",
      "236      Paris     1900   Athletics        Athletics   \n",
      "240      Paris     1900   Athletics        Athletics   \n",
      "242      Paris     1900   Athletics        Athletics   \n",
      "243      Paris     1900   Athletics        Athletics   \n",
      "252      Paris     1900   Athletics        Athletics   \n",
      "...        ...      ...         ...              ...   \n",
      "29019  Beijing     2008  Volleyball    Beach volley.   \n",
      "29024  Beijing     2008  Volleyball    Beach volley.   \n",
      "29025  Beijing     2008  Volleyball    Beach volley.   \n",
      "29040  Beijing     2008  Volleyball       Volleyball   \n",
      "29041  Beijing     2008  Volleyball       Volleyball   \n",
      "29042  Beijing     2008  Volleyball       Volleyball   \n",
      "29043  Beijing     2008  Volleyball       Volleyball   \n",
      "29044  Beijing     2008  Volleyball       Volleyball   \n",
      "29045  Beijing     2008  Volleyball       Volleyball   \n",
      "29046  Beijing     2008  Volleyball       Volleyball   \n",
      "29047  Beijing     2008  Volleyball       Volleyball   \n",
      "29048  Beijing     2008  Volleyball       Volleyball   \n",
      "29049  Beijing     2008  Volleyball       Volleyball   \n",
      "29050  Beijing     2008  Volleyball       Volleyball   \n",
      "29051  Beijing     2008  Volleyball       Volleyball   \n",
      "29088  Beijing     2008  Volleyball       Volleyball   \n",
      "29089  Beijing     2008  Volleyball       Volleyball   \n",
      "29090  Beijing     2008  Volleyball       Volleyball   \n",
      "29091  Beijing     2008  Volleyball       Volleyball   \n",
      "29092  Beijing     2008  Volleyball       Volleyball   \n",
      "29093  Beijing     2008  Volleyball       Volleyball   \n",
      "29094  Beijing     2008  Volleyball       Volleyball   \n",
      "29095  Beijing     2008  Volleyball       Volleyball   \n",
      "29096  Beijing     2008  Volleyball       Volleyball   \n",
      "29097  Beijing     2008  Volleyball       Volleyball   \n",
      "29098  Beijing     2008  Volleyball       Volleyball   \n",
      "29099  Beijing     2008  Volleyball       Volleyball   \n",
      "29151  Beijing     2008   Wrestling  Wrestling Free.   \n",
      "29161  Beijing     2008   Wrestling  Wrestling Free.   \n",
      "29209  Beijing     2008   Wrestling  Wrestling Gre-R   \n",
      "\n",
      "                         Athlete  NOC Gender                  Event  \\\n",
      "11                 LANE, Francis  USA    Men                   100m   \n",
      "13                 BURKE, Thomas  USA    Men                   100m   \n",
      "15                CURTIS, Thomas  USA    Men           110m hurdles   \n",
      "19                 BLAKE, Arthur  USA    Men                  1500m   \n",
      "21                 BURKE, Thomas  USA    Men                   400m   \n",
      "22              JAMISON, Herbert  USA    Men                   400m   \n",
      "27               GARRETT, Robert  USA    Men           discus throw   \n",
      "29                 CLARK, Ellery  USA    Men              high jump   \n",
      "30               CONNOLLY, James  USA    Men              high jump   \n",
      "31               GARRETT, Robert  USA    Men              high jump   \n",
      "32               CONNOLLY, James  USA    Men              long jump   \n",
      "33                 CLARK, Ellery  USA    Men              long jump   \n",
      "34               GARRETT, Robert  USA    Men              long jump   \n",
      "40          HOYT, William Welles  USA    Men             pole vault   \n",
      "41                 TYLER, Albert  USA    Men             pole vault   \n",
      "43               GARRETT, Robert  USA    Men               shot put   \n",
      "46               CONNOLLY, James  USA    Men            triple jump   \n",
      "118                  PAINE, John  USA    Men        25m army pistol   \n",
      "119                PAINE, Sumner  USA    Men        25m army pistol   \n",
      "124                PAINE, Sumner  USA    Men  50m pistol (60 shots)   \n",
      "231              JARVIS, Francis  USA    Men                   100m   \n",
      "232    TEWKSBURY, Walter B. John  USA    Men                   100m   \n",
      "233           MOLONEY, Frederick  USA    Men           110m hurdles   \n",
      "234            KRAENZLEIN, Alvin  USA    Men           110m hurdles   \n",
      "235                 MCLEAN, John  USA    Men           110m hurdles   \n",
      "236                   BRAY, John  USA    Men                  1500m   \n",
      "240    TEWKSBURY, Walter B. John  USA    Men                   200m   \n",
      "242    TEWKSBURY, Walter B. John  USA    Men           200m hurdles   \n",
      "243            KRAENZLEIN, Alvin  USA    Men           200m hurdles   \n",
      "252        LONG, Maxwell W.Maxey  USA    Men                   400m   \n",
      "...                          ...  ...    ...                    ...   \n",
      "29019               ROGERS, Todd  USA    Men       beach volleyball   \n",
      "29024         MAY-TREANOR, Misty  USA  Women       beach volleyball   \n",
      "29025               WALSH, Kerri  USA  Women       beach volleyball   \n",
      "29040                 BALL, Lloy  USA    Men             volleyball   \n",
      "29041           GARDNER, Gabriel  USA    Men             volleyball   \n",
      "29042              HANSEN, Kevin  USA    Men             volleyball   \n",
      "29043               HOFF, Thomas  USA    Men             volleyball   \n",
      "29044         LAMBOURNE, Richard  USA    Men             volleyball   \n",
      "29045                 LEE, David  USA    Men             volleyball   \n",
      "29046               MILLAR, Ryan  USA    Men             volleyball   \n",
      "29047            PRIDDY, William  USA    Men             volleyball   \n",
      "29048               ROONEY, Sean  USA    Men             volleyball   \n",
      "29049              SALMON, Riley  USA    Men             volleyball   \n",
      "29050           STANLEY, Clayton  USA    Men             volleyball   \n",
      "29051           TOUZINSKY, Scott  USA    Men             volleyball   \n",
      "29088       AH MOW-SANTOS, Robyn  USA  Women             volleyball   \n",
      "29089              BERG, Lindsey  USA  Women             volleyball   \n",
      "29090              BOWN, Heather  USA  Women             volleyball   \n",
      "29091              DAVIS, Nicole  USA  Women             volleyball   \n",
      "29092            GLASS, Kimberly  USA  Women             volleyball   \n",
      "29093       HANEEF-PARK, Tayyiba  USA  Women             volleyball   \n",
      "29094           JOINES, Jennifer  USA  Women             volleyball   \n",
      "29095            NNAMANI, Ogonna  USA  Women             volleyball   \n",
      "29096     SCOTT-ARRUDA, Danielle  USA  Women             volleyball   \n",
      "29097              SYKORA, Stacy  USA  Women             volleyball   \n",
      "29098                 TOM, Logan  USA  Women             volleyball   \n",
      "29099            WILLOUGHBY, Kim  USA  Women             volleyball   \n",
      "29151              CEJUDO, Henry  USA    Men                 - 55kg   \n",
      "29161              MILLER, Randi  USA  Women              55 - 63kg   \n",
      "29209              WHEELER, Adam  USA    Men              84 - 96kg   \n",
      "\n",
      "      Event_gender   Medal  \n",
      "11               M  Bronze  \n",
      "13               M    Gold  \n",
      "15               M    Gold  \n",
      "19               M  Silver  \n",
      "21               M    Gold  \n",
      "22               M  Silver  \n",
      "27               M    Gold  \n",
      "29               M    Gold  \n",
      "30               M  Silver  \n",
      "31               M  Silver  \n",
      "32               M  Bronze  \n",
      "33               M    Gold  \n",
      "34               M  Silver  \n",
      "40               M    Gold  \n",
      "41               M  Silver  \n",
      "43               M    Gold  \n",
      "46               M    Gold  \n",
      "118              M    Gold  \n",
      "119              M  Silver  \n",
      "124              M    Gold  \n",
      "231              M    Gold  \n",
      "232              M  Silver  \n",
      "233              M  Bronze  \n",
      "234              M    Gold  \n",
      "235              M  Silver  \n",
      "236              M  Bronze  \n",
      "240              M    Gold  \n",
      "242              M  Bronze  \n",
      "243              M    Gold  \n",
      "252              M    Gold  \n",
      "...            ...     ...  \n",
      "29019            M    Gold  \n",
      "29024            W    Gold  \n",
      "29025            W    Gold  \n",
      "29040            M    Gold  \n",
      "29041            M    Gold  \n",
      "29042            M    Gold  \n",
      "29043            M    Gold  \n",
      "29044            M    Gold  \n",
      "29045            M    Gold  \n",
      "29046            M    Gold  \n",
      "29047            M    Gold  \n",
      "29048            M    Gold  \n",
      "29049            M    Gold  \n",
      "29050            M    Gold  \n",
      "29051            M    Gold  \n",
      "29088            W  Silver  \n",
      "29089            W  Silver  \n",
      "29090            W  Silver  \n",
      "29091            W  Silver  \n",
      "29092            W  Silver  \n",
      "29093            W  Silver  \n",
      "29094            W  Silver  \n",
      "29095            W  Silver  \n",
      "29096            W  Silver  \n",
      "29097            W  Silver  \n",
      "29098            W  Silver  \n",
      "29099            W  Silver  \n",
      "29151            M    Gold  \n",
      "29161            W  Bronze  \n",
      "29209            M  Bronze  \n",
      "\n",
      "[4335 rows x 10 columns]\n"
     ]
    }
   ],
   "source": [
    "# Visualizing USA Medal Counts by Edition: Line Plot\n",
    "\n",
    "# Create the DataFrame: usa\n",
    "usa = medals[medals['NOC'] == 'USA']\n",
    "print(usa)"
   ]
  },
  {
   "cell_type": "code",
   "execution_count": 64,
   "metadata": {
    "collapsed": false
   },
   "outputs": [
    {
     "name": "stdout",
     "output_type": "stream",
     "text": [
      "Edition  Medal \n",
      "1896     Bronze      2\n",
      "         Gold       11\n",
      "         Silver      7\n",
      "1900     Bronze     14\n",
      "         Gold       27\n",
      "         Silver     14\n",
      "1904     Bronze    111\n",
      "         Gold      146\n",
      "         Silver    137\n",
      "1908     Bronze     15\n",
      "         Gold       34\n",
      "         Silver     14\n",
      "1912     Bronze     31\n",
      "         Gold       45\n",
      "         Silver     25\n",
      "1920     Bronze     38\n",
      "         Gold      110\n",
      "         Silver     45\n",
      "1924     Bronze     51\n",
      "         Gold      110\n",
      "         Silver     37\n",
      "1928     Bronze     17\n",
      "         Gold       43\n",
      "         Silver     24\n",
      "1932     Bronze     59\n",
      "         Gold       78\n",
      "         Silver     44\n",
      "1936     Bronze     15\n",
      "         Gold       51\n",
      "         Silver     26\n",
      "                  ... \n",
      "1968     Bronze     35\n",
      "         Gold       83\n",
      "         Silver     31\n",
      "1972     Bronze     43\n",
      "         Gold       53\n",
      "         Silver     59\n",
      "1976     Bronze     36\n",
      "         Gold       63\n",
      "         Silver     56\n",
      "1984     Bronze     50\n",
      "         Gold      168\n",
      "         Silver    115\n",
      "1988     Bronze     52\n",
      "         Gold       77\n",
      "         Silver     64\n",
      "1992     Bronze     85\n",
      "         Gold       89\n",
      "         Silver     50\n",
      "1996     Bronze     52\n",
      "         Gold      160\n",
      "         Silver     48\n",
      "2000     Bronze     52\n",
      "         Gold      130\n",
      "         Silver     66\n",
      "2004     Bronze     73\n",
      "         Gold      116\n",
      "         Silver     75\n",
      "2008     Bronze     81\n",
      "         Gold      125\n",
      "         Silver    109\n",
      "Name: Athlete, dtype: int64\n"
     ]
    }
   ],
   "source": [
    "# Group usa by ['Edition', 'Medal'] and aggregate over 'Athlete'\n",
    "usa_medals_by_year = usa.groupby(['Edition', 'Medal'])['Athlete'].count()\n",
    "print(usa_medals_by_year)"
   ]
  },
  {
   "cell_type": "code",
   "execution_count": 66,
   "metadata": {
    "collapsed": false
   },
   "outputs": [
    {
     "name": "stdout",
     "output_type": "stream",
     "text": [
      "Medal    Bronze  Gold  Silver\n",
      "Edition                      \n",
      "1896          2    11       7\n",
      "1900         14    27      14\n",
      "1904        111   146     137\n",
      "1908         15    34      14\n",
      "1912         31    45      25\n",
      "1920         38   110      45\n",
      "1924         51   110      37\n",
      "1928         17    43      24\n",
      "1932         59    78      44\n",
      "1936         15    51      26\n",
      "1948         35    83      30\n",
      "1952         28    79      23\n",
      "1956         20    61      37\n",
      "1960         21    68      23\n",
      "1964         36    78      36\n",
      "1968         35    83      31\n",
      "1972         43    53      59\n",
      "1976         36    63      56\n",
      "1984         50   168     115\n",
      "1988         52    77      64\n",
      "1992         85    89      50\n",
      "1996         52   160      48\n",
      "2000         52   130      66\n",
      "2004         73   116      75\n",
      "2008         81   125     109\n"
     ]
    }
   ],
   "source": [
    "# Reshape usa_medals_by_year by unstacking\n",
    "usa_medals_by_year = usa_medals_by_year.unstack(level='Medal')\n",
    "print(usa_medals_by_year)"
   ]
  },
  {
   "cell_type": "code",
   "execution_count": 71,
   "metadata": {
    "collapsed": false
   },
   "outputs": [
    {
     "data": {
      "image/png": "[encoded data removed]",
      "text/plain": [
       "<matplotlib.figure.Figure at 0x1ac87fa58>"
      ]
     },
     "metadata": {},
     "output_type": "display_data"
    }
   ],
   "source": [
    "import matplotlib.pyplot as plt\n",
    "# Reshape usa_medals_by_year by unstacking\n",
    "usa_medals_by_year = usa_medals_by_year.unstack(level='Medal')\n",
    "\n",
    "# Plot the DataFrame usa_medals_by_year\n",
    "usa_medals_by_year.plot()\n",
    "plt.show()"
   ]
  },
  {
   "cell_type": "markdown",
   "metadata": {},
   "source": [
    "# Visualizing USA Medal Counts by Edition: Area Plot"
   ]
  },
  {
   "cell_type": "code",
   "execution_count": 72,
   "metadata": {
    "collapsed": false
   },
   "outputs": [
    {
     "data": {
      "image/png": "[encoded data removed]",
      "text/plain": [
       "<matplotlib.figure.Figure at 0x1ac87ff28>"
      ]
     },
     "metadata": {},
     "output_type": "display_data"
    }
   ],
   "source": [
    "# Create the DataFrame: usa\n",
    "usa = medals[medals.NOC == 'USA']\n",
    "\n",
    "# Group usa by 'Edition', 'Medal', and 'Athlete'\n",
    "usa_medals_by_year = usa.groupby(['Edition', 'Medal'])['Athlete'].count()\n",
    "\n",
    "# Reshape usa_medals_by_year by unstacking\n",
    "usa_medals_by_year = usa_medals_by_year.unstack(level='Medal')\n",
    "\n",
    "# Create an area plot of usa_medals_by_year\n",
    "usa_medals_by_year.plot.area()\n",
    "plt.show()"
   ]
  },
  {
   "cell_type": "markdown",
   "metadata": {},
   "source": [
    "# Visualizing USA Medal Counts by Edition: Area Plot with Ordered Medals"
   ]
  },
  {
   "cell_type": "code",
   "execution_count": null,
   "metadata": {
    "collapsed": true
   },
   "outputs": [],
   "source": [
    "# You may have noticed that the medals are ordered according to a lexicographic (dictionary) ordering: Bronze < Gold < Silver\n",
    "# However, you would prefer an ordering consistent with the Olympic rules: Bronze < Silver < Gold\n",
    "# You can achieve this using Categorical types"
   ]
  },
  {
   "cell_type": "code",
   "execution_count": 69,
   "metadata": {
    "collapsed": false
   },
   "outputs": [
    {
     "name": "stdout",
     "output_type": "stream",
     "text": [
      "<class 'pandas.core.frame.DataFrame'>\n",
      "RangeIndex: 29216 entries, 0 to 29215\n",
      "Data columns (total 10 columns):\n",
      "City            29216 non-null object\n",
      "Edition         29216 non-null int64\n",
      "Sport           29216 non-null object\n",
      "Discipline      29216 non-null object\n",
      "Athlete         29216 non-null object\n",
      "NOC             29216 non-null object\n",
      "Gender          29216 non-null object\n",
      "Event           29216 non-null object\n",
      "Event_gender    29216 non-null object\n",
      "Medal           29216 non-null category\n",
      "dtypes: category(1), int64(1), object(8)\n",
      "memory usage: 2.0+ MB\n"
     ]
    }
   ],
   "source": [
    "# Redefine 'Medal' as an ordered categorical\n",
    "medals.Medal = pd.Categorical(values = medals.Medal, categories=['Bronze', 'Silver', 'Gold'], ordered=True)\n",
    "medals.info()"
   ]
  },
  {
   "cell_type": "code",
   "execution_count": 73,
   "metadata": {
    "collapsed": false
   },
   "outputs": [
    {
     "data": {
      "image/png": "[encoded data removed]",
      "text/plain": [
       "<matplotlib.figure.Figure at 0x10ec932b0>"
      ]
     },
     "metadata": {},
     "output_type": "display_data"
    }
   ],
   "source": [
    "# Create the DataFrame: usa\n",
    "usa = medals[medals.NOC == 'USA']\n",
    "\n",
    "# Group usa by 'Edition', 'Medal', and 'Athlete'\n",
    "usa_medals_by_year = usa.groupby(['Edition', 'Medal'])['Athlete'].count()\n",
    "\n",
    "# Reshape usa_medals_by_year by unstacking\n",
    "usa_medals_by_year = usa_medals_by_year.unstack(level='Medal')\n",
    "\n",
    "# Create an area plot of usa_medals_by_year\n",
    "usa_medals_by_year.plot.area()\n",
    "plt.show()"
   ]
  }
 ],
 "metadata": {
  "kernelspec": {
   "display_name": "Python [conda env:py36]",
   "language": "python",
   "name": "conda-env-py36-py"
  },
  "language_info": {
   "codemirror_mode": {
    "name": "ipython",
    "version": 3
   },
   "file_extension": ".py",
   "mimetype": "text/x-python",
   "name": "python",
   "nbconvert_exporter": "python",
   "pygments_lexer": "ipython3",
   "version": "3.6.0"
  }
 },
 "nbformat": 4,
 "nbformat_minor": 1
}
